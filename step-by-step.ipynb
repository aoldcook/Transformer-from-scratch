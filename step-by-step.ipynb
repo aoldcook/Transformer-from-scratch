{
 "cells": [
  {
   "cell_type": "code",
   "execution_count": 1,
   "id": "b197111f3dd1d21d",
   "metadata": {
    "collapsed": false,
    "ExecuteTime": {
     "end_time": "2024-02-01T12:57:32.762242Z",
     "start_time": "2024-02-01T12:57:04.054846Z"
    }
   },
   "outputs": [
    {
     "name": "stderr",
     "output_type": "stream",
     "text": [
      "/var/folders/z2/36ffzbvd28g36r8g2fdb9ncw0000gn/T/ipykernel_66366/1307445776.py:3: DeprecationWarning: \n",
      "Pyarrow will become a required dependency of pandas in the next major release of pandas (pandas 3.0),\n",
      "(to allow more performant data types, such as the Arrow string type, and better interoperability with other libraries)\n",
      "but was not found to be installed on your system.\n",
      "If this would cause problems for you,\n",
      "please provide us feedback at https://github.com/pandas-dev/pandas/issues/54466\n",
      "        \n",
      "  import pandas as pd\n"
     ]
    }
   ],
   "source": [
    "import os\n",
    "import requests\n",
    "import pandas as pd\n",
    "import matplotlib.pyplot as plt\n",
    "import math\n",
    "import tiktoken\n",
    "import torch\n",
    "import torch.nn as nn"
   ]
  },
  {
   "cell_type": "code",
   "outputs": [
    {
     "data": {
      "text/plain": "<torch._C.Generator at 0x11b364f90>"
     },
     "execution_count": 2,
     "metadata": {},
     "output_type": "execute_result"
    }
   ],
   "source": [
    "# Hyperparameters\n",
    "batch_size = 4  # How many batches per training step\n",
    "context_length = 16  # Length of the token chunk each batch\n",
    "d_model = 64  # The vector size of the token embeddings\n",
    "num_layers = 8  # Number of transformer blocks\n",
    "num_heads = 4  # Number of heads in Multi-head attention # 我们的代码中通过 d_model / num_heads = 来获取 head_size\n",
    "learning_rate = 1e-3  # 0.001\n",
    "dropout = 0.1 # Dropout rate\n",
    "max_iters = 500  # Total of training iterations\n",
    "eval_interval = 50  # How often to evaluate the model \n",
    "eval_iters = 20  # How many iterations to average the loss over when evaluating the model\n",
    "device = 'cuda' if torch.cuda.is_available() else 'cpu'  # Instead of using the cpu, we'll use the GPU if it's available.\n",
    "\n",
    "TORCH_SEED = 1337\n",
    "torch.manual_seed(TORCH_SEED)"
   ],
   "metadata": {
    "collapsed": false,
    "ExecuteTime": {
     "end_time": "2024-02-01T12:57:32.776124Z",
     "start_time": "2024-02-01T12:57:32.764718Z"
    }
   },
   "id": "adec81e8b065abf4",
   "execution_count": 2
  },
  {
   "cell_type": "code",
   "outputs": [],
   "source": [
    "# download a sample txt file from https://huggingface.co/datasets/goendalf666/sales-textbook_for_convincing_and_selling/raw/main/sales_textbook.txt\n",
    "if not os.path.exists('sales_textbook.txt'):\n",
    "    url = 'https://huggingface.co/datasets/goendalf666/sales-textbook_for_convincing_and_selling/raw/main/sales_textbook.txt'\n",
    "    with open('sales_textbook.txt', 'w') as f:\n",
    "        f.write(requests.get(url).text)\n",
    "\n",
    "with open('sales_textbook.txt', 'r', encoding='utf-8') as f:\n",
    "    text = f.read()\n",
    "    "
   ],
   "metadata": {
    "collapsed": true,
    "ExecuteTime": {
     "end_time": "2024-02-01T12:57:34.358566Z",
     "start_time": "2024-02-01T12:57:32.777378Z"
    }
   },
   "id": "initial_id",
   "execution_count": 3
  },
  {
   "cell_type": "code",
   "outputs": [
    {
     "name": "stdout",
     "output_type": "stream",
     "text": [
      "Tokenized text size: 77919\n",
      "Vocabulary size: 3771\n",
      "The maximum value in the tokenized text is: 100069\n"
     ]
    }
   ],
   "source": [
    "# Using TikToken to tokenize the source text\n",
    "encoding = tiktoken.get_encoding(\"cl100k_base\")\n",
    "tokenized_text = encoding.encode(text) # size of tokenized source text is 77,919\n",
    "vocab_size = len(set(tokenized_text)) # size of vocabulary is 3,771\n",
    "max_token_value = max(tokenized_text)\n",
    "\n",
    "print(f\"Tokenized text size: {len(tokenized_text)}\")\n",
    "print(f\"Vocabulary size: {vocab_size}\")\n",
    "print(f\"The maximum value in the tokenized text is: {max_token_value}\")\n"
   ],
   "metadata": {
    "collapsed": false,
    "ExecuteTime": {
     "end_time": "2024-02-01T12:57:34.707722Z",
     "start_time": "2024-02-01T12:57:34.360676Z"
    }
   },
   "id": "d8eb984bfcb7a06b",
   "execution_count": 4
  },
  {
   "cell_type": "code",
   "outputs": [
    {
     "data": {
      "text/plain": "77919"
     },
     "execution_count": 5,
     "metadata": {},
     "output_type": "execute_result"
    }
   ],
   "source": [
    "tokenized_text = torch.tensor(tokenized_text, dtype=torch.long, device=device) #将77,919个tokens 转换到Pytorch张量中\n",
    "len(tokenized_text)"
   ],
   "metadata": {
    "collapsed": false,
    "ExecuteTime": {
     "end_time": "2024-02-01T12:57:34.718614Z",
     "start_time": "2024-02-01T12:57:34.712034Z"
    }
   },
   "id": "acdaddfb90e4d242",
   "execution_count": 5
  },
  {
   "cell_type": "code",
   "outputs": [
    {
     "name": "stdout",
     "output_type": "stream",
     "text": [
      "[26072, 220, 16, 25, 17283, 23097, 403, 323, 17013, 1711]\n",
      "Chapter 1: Building Rapport and Capturing\n",
      ".\n",
      "By mastering the art of identifying underlying motivations and desires, we equip ourselves with\n"
     ]
    }
   ],
   "source": [
    "# Illustration purpose\n",
    "print(encoding.encode('Chapter 1: Building Rapport and Capturing'))\n",
    "print(encoding.decode([26072, 220, 16, 25, 17283, 23097, 403, 323, 17013, 1711])) # \"Rapport\" is tokenized as two tokens: \"Rap\"[23097] and \"port\"[403]\n",
    "print(encoding.decode([  627,  1383, 88861,   279,  1989,   315, 25607, 16940, 65931,   323,\n",
    "                         32097,    11,   584, 26458, 13520,   449]))"
   ],
   "metadata": {
    "collapsed": false,
    "ExecuteTime": {
     "end_time": "2024-02-01T12:57:34.782581Z",
     "start_time": "2024-02-01T12:57:34.715945Z"
    }
   },
   "id": "a1453076ae7f2e3",
   "execution_count": 6
  },
  {
   "cell_type": "code",
   "outputs": [],
   "source": [
    "# Split train and validation\n",
    "split_idx = int(len(tokenized_text) * 0.8)\n",
    "train_data = tokenized_text[:split_idx]\n",
    "val_data = tokenized_text[split_idx:]"
   ],
   "metadata": {
    "collapsed": false,
    "ExecuteTime": {
     "end_time": "2024-02-01T12:57:34.784283Z",
     "start_time": "2024-02-01T12:57:34.726571Z"
    }
   },
   "id": "1bd965d977d210d8",
   "execution_count": 7
  },
  {
   "cell_type": "code",
   "outputs": [
    {
     "name": "stdout",
     "output_type": "stream",
     "text": [
      "torch.Size([4, 16]) torch.Size([4, 16])\n"
     ]
    }
   ],
   "source": [
    "# Prepare data for training batch\n",
    "data = train_data\n",
    "idxs = torch.randint(low=0, high=len(data) - context_length, size=(batch_size,))\n",
    "x_batch = torch.stack([data[idx:idx + context_length] for idx in idxs])\n",
    "y_batch = torch.stack([data[idx + 1:idx + context_length + 1] for idx in idxs])\n",
    "print(x_batch.shape, x_batch.shape)"
   ],
   "metadata": {
    "collapsed": false,
    "ExecuteTime": {
     "end_time": "2024-02-01T12:57:34.800839Z",
     "start_time": "2024-02-01T12:57:34.732149Z"
    }
   },
   "id": "dd4d699c1f25bbe6",
   "execution_count": 8
  },
  {
   "cell_type": "code",
   "outputs": [
    {
     "name": "stdout",
     "output_type": "stream",
     "text": [
      "Our batches:\n",
      "       0     1      2      3     4      5      6      7      8      9      10     11     12     13     14     15\n",
      "0    627  1383  88861    279  1989    315  25607  16940  65931    323  32097     11    584  26458  13520    449\n",
      "1  15749   311   9615   3619   872   6444      6   3966     11  10742     11    323  32097     13   3296  22815\n",
      "2  13189   315   1701   5557   304   6763    374  88861   7528  10758   7526     13   4314   7526   2997   2613\n",
      "3    323  6376   2867  26470  1603  16661    264  49148    627     18     13  81745  48023  75311   7246  66044\n"
     ]
    }
   ],
   "source": [
    "xx = x_batch.data.detach().cpu().numpy()\n",
    "pd.set_option('display.expand_frame_repr', False)\n",
    "print(\"Our batches:\\n\", pd.DataFrame(xx))\n"
   ],
   "metadata": {
    "collapsed": false,
    "ExecuteTime": {
     "end_time": "2024-02-01T12:57:34.864666Z",
     "start_time": "2024-02-01T12:57:34.738278Z"
    }
   },
   "id": "e96ee8f724daac71",
   "execution_count": 9
  },
  {
   "cell_type": "code",
   "outputs": [
    {
     "name": "stdout",
     "output_type": "stream",
     "text": [
      "Token Embedding Look-up table:  Embedding(100069, 64)\n"
     ]
    }
   ],
   "source": [
    "# Define Token Embedding look-up table\n",
    "token_embedding_lookup_table = nn.Embedding(max_token_value, d_model)\n",
    "print(\"Token Embedding Look-up table: \", token_embedding_lookup_table)"
   ],
   "metadata": {
    "collapsed": false,
    "ExecuteTime": {
     "end_time": "2024-02-01T12:57:34.901Z",
     "start_time": "2024-02-01T12:57:34.754802Z"
    }
   },
   "id": "5ade5a79e8c689ef",
   "execution_count": 10
  },
  {
   "cell_type": "code",
   "outputs": [],
   "source": [
    "# Get x and y embedding\n",
    "x = token_embedding_lookup_table(x_batch.data) # [4, 16, 64] [batch_size, context_length, d_model]\n",
    "y = token_embedding_lookup_table(y_batch.data)"
   ],
   "metadata": {
    "collapsed": false,
    "ExecuteTime": {
     "end_time": "2024-02-01T12:57:34.905194Z",
     "start_time": "2024-02-01T12:57:34.803365Z"
    }
   },
   "id": "86aa314dc5f6a76e",
   "execution_count": 11
  },
  {
   "cell_type": "code",
   "outputs": [
    {
     "name": "stdout",
     "output_type": "stream",
     "text": [
      "Position Encoding Look-up Table:  torch.Size([4, 16, 64])\n",
      "tensor([[[ 0.0000,  1.0000,  0.0000,  ...,  1.0000,  0.0000,  1.0000],\n",
      "         [ 0.8400,  0.5400,  0.6800,  ...,  1.0000,  0.0000,  1.0000],\n",
      "         [ 0.9100, -0.4200,  1.0000,  ...,  1.0000,  0.0000,  1.0000],\n",
      "         ...,\n",
      "         [ 0.4200,  0.9100, -0.3200,  ...,  1.0000,  0.0000,  1.0000],\n",
      "         [ 0.9900,  0.1400, -0.8800,  ...,  1.0000,  0.0000,  1.0000],\n",
      "         [ 0.6500, -0.7600, -0.9700,  ...,  1.0000,  0.0000,  1.0000]],\n",
      "\n",
      "        [[ 0.0000,  1.0000,  0.0000,  ...,  1.0000,  0.0000,  1.0000],\n",
      "         [ 0.8400,  0.5400,  0.6800,  ...,  1.0000,  0.0000,  1.0000],\n",
      "         [ 0.9100, -0.4200,  1.0000,  ...,  1.0000,  0.0000,  1.0000],\n",
      "         ...,\n",
      "         [ 0.4200,  0.9100, -0.3200,  ...,  1.0000,  0.0000,  1.0000],\n",
      "         [ 0.9900,  0.1400, -0.8800,  ...,  1.0000,  0.0000,  1.0000],\n",
      "         [ 0.6500, -0.7600, -0.9700,  ...,  1.0000,  0.0000,  1.0000]],\n",
      "\n",
      "        [[ 0.0000,  1.0000,  0.0000,  ...,  1.0000,  0.0000,  1.0000],\n",
      "         [ 0.8400,  0.5400,  0.6800,  ...,  1.0000,  0.0000,  1.0000],\n",
      "         [ 0.9100, -0.4200,  1.0000,  ...,  1.0000,  0.0000,  1.0000],\n",
      "         ...,\n",
      "         [ 0.4200,  0.9100, -0.3200,  ...,  1.0000,  0.0000,  1.0000],\n",
      "         [ 0.9900,  0.1400, -0.8800,  ...,  1.0000,  0.0000,  1.0000],\n",
      "         [ 0.6500, -0.7600, -0.9700,  ...,  1.0000,  0.0000,  1.0000]],\n",
      "\n",
      "        [[ 0.0000,  1.0000,  0.0000,  ...,  1.0000,  0.0000,  1.0000],\n",
      "         [ 0.8400,  0.5400,  0.6800,  ...,  1.0000,  0.0000,  1.0000],\n",
      "         [ 0.9100, -0.4200,  1.0000,  ...,  1.0000,  0.0000,  1.0000],\n",
      "         ...,\n",
      "         [ 0.4200,  0.9100, -0.3200,  ...,  1.0000,  0.0000,  1.0000],\n",
      "         [ 0.9900,  0.1400, -0.8800,  ...,  1.0000,  0.0000,  1.0000],\n",
      "         [ 0.6500, -0.7600, -0.9700,  ...,  1.0000,  0.0000,  1.0000]]])\n"
     ]
    }
   ],
   "source": [
    "# Define Position Encoding look-up table\n",
    "position_encoding_lookup_table = torch.zeros(context_length, d_model)\n",
    "position = torch.arange(0, context_length, dtype=torch.float).unsqueeze(1)\n",
    "div_term = torch.exp(torch.arange(0, d_model, 2).float() * (-math.log(10000.0) / d_model))\n",
    "position_encoding_lookup_table[:, 0::2] = torch.sin(position * div_term)\n",
    "position_encoding_lookup_table[:, 1::2] = torch.cos(position * div_term)\n",
    "position_encoding_lookup_table = position_encoding_lookup_table.unsqueeze(0).expand(batch_size, -1, -1) #add batch dimension\n",
    "\n",
    "print(\"Position Encoding Look-up Table: \", position_encoding_lookup_table.shape)\n",
    "print(torch.round(position_encoding_lookup_table * 100)/100)"
   ],
   "metadata": {
    "collapsed": false,
    "ExecuteTime": {
     "end_time": "2024-02-01T12:57:34.964677Z",
     "start_time": "2024-02-01T12:57:34.811577Z"
    }
   },
   "id": "17f145bd89a13b23",
   "execution_count": 12
  },
  {
   "cell_type": "code",
   "outputs": [
    {
     "name": "stdout",
     "output_type": "stream",
     "text": [
      "Token Embedding Look-Up Table:\n",
      "               0         1         2         3         4         5         6         7         8         9   ...        54        55        56        57        58        59        60        61        62        63\n",
      "0       0.625765  0.025510  0.954514  0.064349 -0.502401 -0.202555 -1.567081 -1.097956  0.235958 -0.239778  ...  0.420812  0.277596  0.778898  1.533269  1.609736 -0.403228 -0.274928  1.473840  0.068826  1.332708\n",
      "1      -0.497006  0.465756 -0.257259 -1.067259  0.835319 -1.956048 -0.800265 -0.504499 -1.426664  0.905942  ...  0.008287 -0.252325 -0.657626  0.318449 -0.549586 -1.464924 -0.557690 -0.693927 -0.325247  1.243933\n",
      "2       1.347121  1.690980 -0.124446 -1.682366  1.134614 -0.082384  0.289316  0.835773  0.306655 -0.747233  ...  0.543340 -0.843840 -0.687481  2.138219  0.511412  1.219090  0.097527 -0.978587 -0.432050 -1.493750\n",
      "3       1.078523 -0.614952 -0.458853  0.567482  0.095883 -1.569957  0.373957 -0.142067 -1.242306 -0.961821  ... -0.882441  0.638720  1.119174 -1.907924 -0.527563  1.080655 -2.215207  0.203201 -1.115814 -1.258691\n",
      "4       0.814849 -0.064297  1.423653  0.261726 -0.133177  0.211893  1.449790  3.055426 -1.783010 -0.832339  ...  0.665415  0.723436 -1.318454  0.785860 -1.150111  1.313207 -0.334949  0.149743  1.306531 -0.046524\n",
      "...          ...       ...       ...       ...       ...       ...       ...       ...       ...       ...  ...       ...       ...       ...       ...       ...       ...       ...       ...       ...       ...\n",
      "100064 -0.898191 -1.906910 -0.906910  1.838532  2.121814 -1.654444  0.082778  0.064536  0.345121  0.262247  ...  0.438956  0.163314  0.491996  1.721039 -0.124316  1.228242  0.368963  1.058280  0.406413 -0.326223\n",
      "100065  1.354992 -1.203096 -2.184551 -1.745679 -0.005853 -0.860506  1.010784  0.355051 -1.489120 -1.936192  ...  1.354665 -1.338872 -0.263905  0.284906  0.202743 -0.487176 -0.421959  0.490739 -1.056457  2.636806\n",
      "100066 -0.436116  0.450023 -1.381522  0.625508  0.415576  0.628877 -0.595811 -1.074244 -1.512645 -2.027422  ...  0.436522  0.068974  1.305852  0.005790 -0.583766 -0.797004  0.144952 -0.279772  1.522029 -0.629672\n",
      "100067  0.147102  0.578953 -0.668165 -0.011443  0.236621  0.348374 -0.706088  1.368070 -1.428709 -0.620189  ...  1.130942 -0.739860 -1.546209 -1.475937 -0.145684 -1.744829  0.637790 -1.064455  1.290440 -1.110520\n",
      "100068  0.415268 -0.345575  0.441546 -0.579085  1.110969 -1.303691  0.143943 -0.714082 -1.426512  1.646982  ... -2.502535  1.409418  0.159812 -0.911323  0.856282 -0.404213 -0.012741  1.333426  0.372255  0.722526\n",
      "\n",
      "[100069 rows x 64 columns]\n"
     ]
    }
   ],
   "source": [
    "# Illustration Purpose Only\n",
    "token_embedding_lookup_table_np = token_embedding_lookup_table.weight.data.detach().cpu().numpy() # Convert into a numpy array\n",
    "token_embedding_lookup_table_np = pd.DataFrame(token_embedding_lookup_table_np)\n",
    "print(\"Token Embedding Look-Up Table:\\n\", token_embedding_lookup_table_np)"
   ],
   "metadata": {
    "collapsed": false,
    "ExecuteTime": {
     "end_time": "2024-02-01T12:57:34.969259Z",
     "start_time": "2024-02-01T12:57:34.828084Z"
    }
   },
   "id": "fd3add7c6d38c3dc",
   "execution_count": 13
  },
  {
   "cell_type": "code",
   "outputs": [
    {
     "data": {
      "text/plain": "<Figure size 640x480 with 2 Axes>",
      "image/png": "[encoded data removed]"
     },
     "metadata": {},
     "output_type": "display_data"
    }
   ],
   "source": [
    "# Illustration Purpose Only\n",
    "def visualize_pe(pe):\n",
    "    plt.imshow(pe, aspect=\"auto\")\n",
    "    plt.title(\"Positional Encoding\")\n",
    "    plt.xlabel(\"Encoding Dimension\")\n",
    "    plt.ylabel(\"Position Index\")\n",
    "    plt.colorbar()\n",
    "    plt.show()\n",
    "\n",
    "position_encoding_lookup_table2_np = position_encoding_lookup_table[0].cpu().numpy()\n",
    "visualize_pe(position_encoding_lookup_table2_np)"
   ],
   "metadata": {
    "collapsed": false,
    "ExecuteTime": {
     "end_time": "2024-02-01T12:57:35.578343Z",
     "start_time": "2024-02-01T12:57:34.874806Z"
    }
   },
   "id": "fa43476e35fdb265",
   "execution_count": 14
  },
  {
   "cell_type": "code",
   "outputs": [
    {
     "name": "stdout",
     "output_type": "stream",
     "text": [
      "Final Input Embedding of x: \n",
      "           0         1         2         3         4         5         6         7         8         9   ...        54        55        56        57        58        59        60        61        62        63\n",
      "0   0.346711  0.416130  0.194183  2.676231  0.104132  0.317640 -0.716680  2.721329 -1.379066  1.958478  ...  0.326141  0.918822 -0.974995  0.776366 -1.208963  1.784498  0.213160  2.055345  0.838057  0.250892\n",
      "1   0.115021  0.819889  1.295355  0.050067  1.152808  0.007295  2.096463  1.836589 -1.455025  2.047307  ...  0.434175  1.833931 -0.511320  1.208292  0.141251  2.429123  0.510447  1.479065  1.451683  0.670747\n",
      "2   0.025032 -0.896510  2.007128  0.645062  1.861388  1.183611  0.626595  0.867692  0.332192  0.616423  ...  0.095568 -0.311354 -1.522920  1.861448 -0.841794  1.096748 -1.112153  1.676283  1.079349  1.205097\n",
      "3   1.540862 -2.196910  1.106263 -0.879057  1.525127 -0.364159  1.305572 -0.088271  0.942626 -0.624826  ... -0.546487  2.515671  1.224692  1.833670 -0.403482  1.563554  0.591826  0.275255  1.670505  0.758279\n",
      "4  -1.026346 -2.520314  0.092276 -1.922128  0.772673 -1.248682  0.811818  0.063149  1.300849 -0.709820  ...  0.412297  0.811908  0.551316  1.974630 -0.939264  0.681914 -0.187975  1.821461 -0.166859  0.659965\n",
      "5  -0.333637 -0.845062 -3.047244 -0.539240  0.370664 -0.112349  0.087253 -1.396884  1.910200  0.589691  ... -2.392044  0.201838 -0.968136  1.399131 -0.767064  1.607607 -1.890431  2.642382 -0.155402  0.069573\n",
      "6  -0.671321  1.424937 -2.025386 -1.031886 -0.385049 -0.656757  0.465220 -2.319048  0.048269 -0.330767  ... -1.924361  1.770509  0.366548  2.237813 -0.125453  0.737559 -2.455601  1.795864  0.514167  0.152090\n",
      "7   1.460090  1.632251 -2.407473 -0.108412 -1.577921 -1.534449 -0.767310 -3.344894  0.582778 -0.942104  ... -0.624013  2.197190 -0.286863  1.692157 -0.142867  1.440122 -1.049482  1.068458 -0.757912  0.287046\n",
      "8   0.493083 -2.413755 -1.205481  0.105365 -0.475036  0.941739  0.546560 -2.336168 -0.348883 -1.902892  ... -1.072307  1.369699 -0.530627  2.117681 -0.386811  0.388143  1.356780  2.472881  0.264217  1.200112\n",
      "9   0.381502 -0.606034  0.249510  1.915294 -0.984113  2.072770 -2.097719  0.134769 -0.296123 -2.457148  ...  0.307279  0.597253  0.045292  0.127551  1.358625  2.417308 -1.434693  0.254192 -0.241214  0.542596\n",
      "10 -0.586758 -1.718416  1.647630 -0.431370 -0.642387 -0.391723 -0.296238 -1.070488 -0.842712 -1.117290  ...  0.246956  0.162995 -0.534199 -0.385929 -0.259560  2.623391  0.565274  0.698465  0.255499  1.528143\n",
      "11 -0.625085 -0.037802  1.642752  1.460066  0.417635  2.481112 -0.515116 -1.015839  0.074801 -1.277103  ...  0.305872 -0.519248 -0.783341  1.396661 -0.972843  1.512183  1.175235  1.114063  0.163492  1.244288\n",
      "12 -0.137083 -1.089729 -0.385102 -1.420898 -0.049978 -0.465174 -1.718115 -0.714581  0.168579 -1.108954  ... -0.903095 -1.738268  0.204137  1.928488  0.637895  0.500249  0.917552  0.887469 -1.344181  0.950669\n",
      "13  1.090419  0.435371 -0.083390 -1.558577  2.418297  1.322249  0.850477 -0.733657 -1.358562 -1.389894  ... -0.499943  1.458365  0.897332 -0.018865  0.955537 -1.200418  0.384898  2.307354 -1.256187 -0.754517\n",
      "14  1.396442  0.852242 -2.127405 -2.404308  0.666056 -1.643007 -0.924739  0.318684 -1.985052 -1.211650  ...  0.635039  3.170543 -0.350654  1.756670  0.634567 -0.359409  0.072614  0.528358 -1.816792  1.262165\n",
      "15  0.103718 -0.211814 -1.824957  1.499077  0.716739  0.161400 -0.793259  1.097708  0.100865  2.525651  ...  1.589034  1.928113 -0.097586  2.889562 -1.442999  0.118628  0.953136 -1.061797  0.738310  2.549351\n",
      "\n",
      "[16 rows x 64 columns]\n"
     ]
    }
   ],
   "source": [
    "# Add positional encoding into the input embedding vector\n",
    "input_embedding_x = x + position_encoding_lookup_table # [4, 16, 64] [batch_size, context_length, d_model]\n",
    "input_embedding_y = y + position_encoding_lookup_table\n",
    "x_plot = input_embedding_x[0].detach().cpu().numpy()\n",
    "print(\"Final Input Embedding of x: \\n\", pd.DataFrame(x_plot))"
   ],
   "metadata": {
    "collapsed": false,
    "ExecuteTime": {
     "end_time": "2024-02-01T12:57:35.594872Z",
     "start_time": "2024-02-01T12:57:35.578498Z"
    }
   },
   "id": "8bc5355ba995b07b",
   "execution_count": 15
  },
  {
   "cell_type": "code",
   "outputs": [
    {
     "data": {
      "text/plain": "torch.Size([4, 16, 64])"
     },
     "execution_count": 16,
     "metadata": {},
     "output_type": "execute_result"
    }
   ],
   "source": [
    "# Prepare Query, Key, Value for Multi-head Attention\n",
    "X = input_embedding_x\n",
    "query = key = value = X # [4, 16, 64] [batch_size, context_length, d_model]\n",
    "query.shape"
   ],
   "metadata": {
    "collapsed": false,
    "ExecuteTime": {
     "end_time": "2024-02-01T12:57:35.598380Z",
     "start_time": "2024-02-01T12:57:35.591594Z"
    }
   },
   "id": "b49bfcfcb646b81f",
   "execution_count": 16
  },
  {
   "cell_type": "code",
   "outputs": [
    {
     "name": "stdout",
     "output_type": "stream",
     "text": [
      "         0         1         2         3         4         5         6         7         8         9         10        11        12        13        14        15\n",
      "0 -1.025968  0.133713 -0.187217 -0.199014 -1.527093 -0.764418  0.282691 -0.772156  0.562685  0.619130  0.922693 -0.161524 -0.641406 -1.242846 -0.130296  0.002646\n",
      "1 -0.623791 -0.345467 -0.205378 -0.234110 -0.274661  0.106249 -1.698619  1.065493  0.135303 -0.610848 -0.924096  0.105887  0.106972 -0.315460 -0.959068 -0.527901\n",
      "2  0.100559  0.404248  0.404759 -0.900741  0.413372  0.409686  0.773026  0.385371 -0.025313 -0.373410  0.827897 -1.059960 -0.802082  1.004370  0.257020 -0.007169\n",
      "3  0.426449  0.023799  0.089837 -0.680759 -0.317915 -0.271844  0.339102 -1.243521  0.260243 -0.885803 -0.819325 -0.508406 -0.316238 -0.928699 -0.365961 -0.636015\n",
      "         0         1         2         3         4         5         6         7         8         9         10        11        12        13        14        15\n",
      "0 -0.750633  0.317580 -0.684427  0.371196 -0.567052 -0.952317  0.505010 -0.197226  0.201398  0.345582  1.072520 -0.138188 -0.993420  0.270900  0.251858 -0.206880\n",
      "1  1.398942  0.505270  0.153535  0.016068  0.701808  1.368999 -0.708902  0.096446 -0.290357 -0.706064  0.286351 -0.033695 -0.194807 -0.863128  0.284970 -1.481862\n",
      "2  0.518548  0.206814  1.020209 -0.363433 -0.235155  0.030255  0.320185  0.636925  0.136905 -0.388741  1.288090 -1.565174  0.644913  2.152436 -0.955952 -1.586896\n",
      "3 -0.331208  0.353789  0.654995 -0.687545 -0.450193 -0.064003 -0.404425 -1.135829  0.471820 -1.138431 -0.039899 -0.433355 -0.929750  0.187407 -1.378256 -1.504853\n",
      "         0         1         2         3         4         5         6         7         8         9         10        11        12        13        14        15\n",
      "0 -0.774306  0.520165 -0.195663 -0.409813  0.199065 -1.126934  0.698614 -0.823944 -0.339937  0.236604  0.303689 -0.969995 -1.232363 -0.693766  0.410392 -0.493498\n",
      "1 -0.555117 -0.812229 -1.108833 -0.397486 -0.581163 -1.092517 -0.189145  0.603234 -0.311555 -0.023134 -0.046300  0.763883  0.365569 -0.180029 -0.116742 -0.669570\n",
      "2 -0.459907 -0.120258 -0.252509 -0.345820  0.992868 -0.261716  0.009244  0.823045 -0.381495 -1.099549 -0.132856 -1.171993 -0.703841  0.564692  0.376103 -1.219620\n",
      "3  0.092682 -0.225503 -0.152917 -1.733519 -0.090755 -0.227924 -0.177350 -1.257368 -0.748994 -0.400568 -0.043930 -0.148698 -0.130381 -1.565122 -1.011847 -1.255348\n",
      "         0         1         2         3         4         5         6         7         8         9         10        11        12        13        14        15\n",
      "0 -0.141973  0.548096 -0.477459 -0.155852 -0.111084 -0.608231 -0.136524 -0.140471  0.788523 -1.707209  0.637251  0.163167  0.295596  0.328166  0.610661 -1.526106\n",
      "1  0.457060  0.200782  0.063737 -0.262614  0.787925  1.433180 -0.161471  0.463103 -1.104487 -0.365450  0.933331 -0.590846  0.456839 -0.659879 -0.265118 -1.157823\n",
      "2 -0.700177 -0.241467 -0.174368 -0.764943 -0.879669  0.175779  1.283321  0.483518 -0.738338 -0.073258  1.480978 -0.709189 -1.218432  1.726273  0.260356 -1.213019\n",
      "3 -0.971036 -0.771208  0.713452  0.220355  0.360364 -0.199824  1.307719 -0.664397 -0.894781 -0.006008 -0.199686 -0.103744 -0.537833 -1.794736  0.212943 -0.956471\n",
      "         0         1         2         3         4         5         6         7         8         9         10        11        12        13        14        15\n",
      "0 -1.088310 -0.224740 -0.465736 -1.008519 -0.180635 -0.311545 -0.073005  0.302390 -0.249888 -0.644427  0.883047  0.066880  0.098057 -0.371592  0.285383 -0.769148\n",
      "1  0.619029  0.543915 -0.555802  0.188615  0.133510  0.656890 -0.033613 -0.752321 -0.612531  0.060886  0.058223  0.803396  0.190009 -0.590361  0.248369 -0.448643\n",
      "2 -0.429140 -0.247328  0.558575 -0.123919 -0.859800  0.640835  0.750803  0.649878  0.223013  0.406651  0.484423 -0.656021 -0.858885  1.384132  0.505555 -0.705874\n",
      "3 -0.127513 -0.639790  0.252739  0.228027 -0.143932  0.504244  0.186791 -1.234599 -0.601581  0.459464  0.702104  0.629375 -0.586597 -0.662743  0.499920 -0.357155\n",
      "         0         1         2         3         4         5         6         7         8         9         10        11        12        13        14        15\n",
      "0 -0.894133  0.005560 -0.688916 -0.231653  0.177350 -0.000618  0.652184  0.285768  0.989604  0.211553 -0.185526  0.600083 -0.370162 -0.814626 -0.341733 -1.148443\n",
      "1 -0.914223 -0.577156 -1.322195 -0.637753  0.529445 -0.179767 -0.535931  0.059181 -0.549379  0.114991 -0.395528  0.710859  0.071163 -0.050886  0.700890 -0.018998\n",
      "2 -0.282294 -0.746521 -0.161448  0.400784 -0.704252 -0.313111  2.087383  0.135650  0.355169  0.207644 -0.637429 -0.777249  0.124727 -0.037355  1.178019 -0.823968\n",
      "3 -1.285833  0.147655 -0.139414  0.302445  0.417372  0.674627  0.042895 -1.458333 -0.353992  0.006111 -0.846395 -0.806661 -1.543607 -1.053072 -0.203261 -0.793806\n",
      "         0         1         2         3         4         5         6         7         8         9         10        11        12        13        14        15\n",
      "0 -0.471421  0.358169 -0.194146  0.436454  0.283432 -0.373796  0.503165  0.677846  0.857462  0.571616 -0.338908  0.422376  1.191289 -0.364549  0.934436 -2.072761\n",
      "1 -0.591495 -0.648074  0.047601 -0.009876  0.711952  0.653090 -0.101117 -0.031195 -0.994840  0.483675  0.821264  0.054800  0.230014 -0.035981  1.343552  0.234271\n",
      "2 -0.586381 -1.218399 -0.006387  0.097176 -0.856061  0.563128  1.838603  0.739374  0.329476  0.447286 -0.542361  0.009218  0.367633  0.147443  0.703859 -0.649460\n",
      "3 -2.393952  0.436680 -0.022106  0.103048  0.908550 -0.549719 -0.030820  0.150791  0.398897  1.059036 -0.730387 -0.502347 -1.450361 -0.564007  0.080694 -0.029476\n",
      "         0         1         2         3         4         5         6         7         8         9         10        11        12        13        14        15\n",
      "0 -0.789483  0.796154 -0.733070 -0.357366 -0.842082 -0.450564  0.683821  0.481287  1.079441 -1.481856  0.486654  0.901078  0.299849 -0.272350  0.607042 -0.688002\n",
      "1  0.691299  0.813143 -0.721707  0.156169  0.843932  0.678565 -0.658998  0.451601 -0.781288 -0.488952  0.521094  0.622428 -0.506758 -1.983940  0.386115 -0.182317\n",
      "2 -0.752201  1.238023 -0.505076 -0.248976 -1.264739  0.871361  1.210665 -0.006050 -1.743001  0.281672 -0.300978 -0.693238  1.181140 -0.032502  0.264867 -0.667077\n",
      "3 -2.148672  0.164987  1.295587 -0.142988 -0.098045 -0.431950  0.270462  0.080704  0.247299 -0.142124 -1.210544 -0.614352 -1.027402  0.655432  0.699682 -0.609019\n",
      "         0         1         2         3         4         5         6         7         8         9         10        11        12        13        14        15\n",
      "0  0.395969 -0.285493  0.129862 -0.430877  0.307655 -1.070860 -0.918385  1.537997  0.243500 -0.749215  0.293866  0.374041 -0.053719  0.721559  0.967534 -0.406255\n",
      "1 -0.094471 -0.499307 -0.778192  1.211349  0.021607 -0.345557 -0.629564 -0.142540 -0.078327 -0.039968  0.460072  0.913346 -0.958155 -0.735656  1.355906 -1.600546\n",
      "2 -1.487019 -0.187481  0.532213  0.440800  0.116890  0.573801  0.845232  1.192824  0.145960 -0.498607  0.443949 -0.744899  0.679788  1.444960  1.004145 -0.112438\n",
      "3 -1.995819  0.317620  0.125284 -1.302176  0.318223 -0.971903 -0.102381 -0.615186 -0.490696 -0.029123  0.418598 -0.599106 -1.171568 -0.446781 -0.413918 -0.766342\n",
      "         0         1         2         3         4         5         6         7         8         9         10        11        12        13        14        15\n",
      "0  0.264874 -0.935791  0.165903  0.930306  0.800794 -0.723140 -0.232710  0.537952  0.042709  0.475482 -0.179115  0.794067 -0.552646  0.300531 -0.925348 -0.584930\n",
      "1  1.136074  0.122240 -0.460876 -0.605410  0.178498  0.602965 -0.818691  0.957728  0.249319  0.332147 -0.195629  0.356997 -0.300016 -0.572497  0.726233 -0.930195\n",
      "2 -0.048622 -1.270567  0.639938  0.014251  0.054606  0.897766  0.965613 -0.074322  0.593796  0.081998  0.243959 -1.131521 -0.780350 -0.067282  0.872821  1.243742\n",
      "3 -0.700427 -0.444337  0.547011 -0.077008  0.876294 -0.232428 -0.177974 -0.006037  0.184935  0.009479 -0.742709  0.139049 -0.097626 -0.302713 -0.856880 -0.888228\n",
      "         0         1         2         3         4         5         6         7         8         9         10        11        12        13        14        15\n",
      "0 -0.631790  0.672437  0.450132  0.371590  0.637641 -0.692858 -0.802760  0.044028  0.811357 -0.514525 -1.471152 -0.189478 -1.395138 -0.343079 -0.048600 -1.312516\n",
      "1  1.456784 -0.757043 -0.837116 -0.283448  0.126138  0.469766 -1.406297  0.438192 -0.359664  0.088151  0.135923  0.581575 -0.549653  0.221354  0.260285 -1.199693\n",
      "2 -0.404128  0.533660  0.297181 -0.004564 -0.703851 -0.174568  0.853602  2.219106  0.758988 -0.612700  0.726972  0.085900  0.107649  0.140612  0.113981 -0.217802\n",
      "3  0.479353 -0.627368 -0.395732  0.325349  0.441871 -0.465933  1.008570 -0.492875  0.193255  0.059725 -0.185686  0.292168  0.730141 -1.018422 -0.528378 -1.079177\n",
      "         0         1         2         3         4         5         6         7         8         9         10        11        12        13        14        15\n",
      "0 -0.286748  0.065842 -0.424535 -0.302894  0.306952 -0.058352 -0.218765 -0.230157 -0.392990  0.066537 -0.089722  1.314409 -0.937744 -1.117073 -1.246527  0.848912\n",
      "1  0.134824  0.322538 -0.362901 -1.079105 -0.160803  0.360656 -1.194788  0.192852  0.226179 -0.532304 -0.331223  0.159459  0.491041  0.222448 -0.302669 -0.595515\n",
      "2 -1.063827 -0.376820 -0.634791 -0.688704  0.788660  0.442854  0.243667  0.886525 -0.165061  0.545122  0.061587 -0.882822  0.178895  0.324506  1.113042 -0.490482\n",
      "3  0.072433 -0.913823  0.499100 -0.579560  0.292161  0.171112  0.068977 -0.547834  1.176303 -0.403627 -0.232709  0.005152  0.233350 -0.835587  0.268892 -0.951551\n",
      "         0         1         2         3         4         5         6         7         8         9         10        11        12        13        14        15\n",
      "0  0.513811 -0.609399 -0.921934  0.506271  0.220316 -0.892043 -0.696423  0.244343  0.756727 -1.007412 -0.374927 -0.479113 -0.598624 -0.333480  0.361705 -0.470846\n",
      "1 -0.328959  0.487586  0.087638  1.126286 -0.457949 -0.323889 -0.242212  0.357646 -0.156608  0.121074  0.772184 -0.138542  0.441202 -0.013047  0.567844 -0.529602\n",
      "2 -0.617390  0.002678 -0.394688  0.247774  0.001249  0.375202  0.448218  0.470594 -0.182867 -0.110294 -0.199312 -1.372379  0.460031  1.015148  0.368566 -0.124978\n",
      "3 -0.800870 -0.892193  0.216140 -0.411509  1.214770  0.022384 -0.385039 -1.544884  1.049401  0.447505 -0.821925 -0.379844 -0.310207  0.379805  0.253867 -0.921031\n",
      "         0         1         2         3         4         5         6         7         8         9         10        11        12        13        14        15\n",
      "0 -0.208256  0.642146 -0.128742 -0.565041  1.005220 -0.118751 -0.118441  0.533518 -0.393411  0.578080  0.293105  1.031047  1.120940 -0.538995 -0.567153  0.515950\n",
      "1 -0.670613  1.806529  1.121071 -1.399652 -0.364326  0.476477  0.315714  1.243495  0.250844  0.496524  0.386189  0.382194  1.081995  0.380331  1.536988 -0.133553\n",
      "2 -1.084649 -0.714339 -0.881088 -0.340038  1.938450  0.875513  0.063936 -0.418659 -0.353350 -0.281123 -0.128656 -0.496561 -0.155213 -0.711902  0.763512  0.724877\n",
      "3  0.374427 -0.520546  0.387649  0.005989  0.102790 -0.283322  0.577102  0.281136 -0.054731 -0.141883  0.591021  0.294935  0.845788 -0.420822 -0.727993 -0.290467\n",
      "         0         1         2         3         4         5         6         7         8         9         10        11        12        13        14        15\n",
      "0  0.075449  0.047253 -0.115473 -0.065590 -0.287750  0.753112  0.596657  1.109524  1.220257 -1.001790  0.012910 -0.663945 -0.576462 -1.569698  0.777961 -1.741956\n",
      "1 -0.810161  1.088193  0.425638  0.008206 -0.081672 -0.190731 -1.245758  0.477302 -0.797826  0.029633 -0.231758  0.961635  0.320975 -0.451471  1.546198 -0.190647\n",
      "2 -1.372678  0.459953 -0.079731 -0.349709 -0.605277  1.069273  1.556834  1.178758  0.140565 -0.940929  0.465343 -1.385339 -0.349662 -0.960534 -0.503202 -0.691209\n",
      "3 -1.414010  1.921643 -0.720870  0.288468  0.636516 -0.719004  1.784775 -1.130395  0.698115  0.206422 -0.568136  0.171153 -0.794577 -0.458601 -1.019438  0.394933\n",
      "         0         1         2         3         4         5         6         7         8         9         10        11        12        13        14        15\n",
      "0 -0.486618  0.100200  0.592289  0.207201  0.364753 -0.035055 -0.818501 -0.030341  0.596809  0.312028  0.596688 -0.176086 -0.343954 -1.170979  0.148921 -0.556739\n",
      "1 -0.434209 -0.926299  1.475719 -0.403336  0.933096 -0.436750  0.190260 -0.586751  1.087063 -0.283463  0.437168 -0.006148  1.454087  1.064840  0.118743 -1.421209\n",
      "2 -0.768123 -0.485363  0.645997  1.472495 -0.588364  0.830672  1.300753  0.733180  0.733918 -0.704484  0.908406 -1.235105 -0.247558  1.537321  0.326188 -0.274031\n",
      "3  0.049306  1.269826 -0.133296 -1.507094  1.540331 -1.149553 -1.089665 -1.333788  0.541939  0.280259 -0.033404  0.418770 -0.457864  1.114148 -1.967807 -0.530647\n",
      "         0         1         2         3         4         5         6         7         8         9         10        11        12        13        14        15\n",
      "0 -0.151782  0.689123 -1.019496  0.514371 -0.809936 -1.184558  1.467705 -0.758537  0.951691  0.584128 -0.968354  0.126403 -2.679833 -1.650128  0.154739 -1.639973\n",
      "1 -0.006429 -0.896667 -1.001431  0.167845  0.349471  0.570920 -1.426568  0.378878  0.411614  0.428773 -0.705304  0.404358  0.643300 -0.243705  1.249041 -1.051102\n",
      "2 -1.326017  0.126281  0.831713 -0.324331 -0.411858 -0.566737  2.085981  2.095641 -0.224505 -0.206698 -0.182485 -0.423663 -0.142309  0.986666  0.937237 -0.563259\n",
      "3  0.237112 -0.517855  0.493817 -1.669393 -0.249620  0.467397  0.231840 -0.590384  0.798656 -1.259690 -0.712491 -0.339441  0.119721 -2.682140 -0.425642 -0.645256\n",
      "         0         1         2         3         4         5         6         7         8         9         10        11        12        13        14        15\n",
      "0 -0.037232  0.902139 -1.258124  0.144882 -1.014938  0.158441 -0.609040 -0.014838 -0.224203  0.009536  0.385489  0.513734  0.374132 -0.020697 -0.214961 -0.973863\n",
      "1 -0.366352  1.727288  0.801461 -1.121002  0.253767  1.036720 -0.436917  0.129408 -0.000180  0.327049  0.401500  0.636951  1.423332 -0.850040 -0.736260 -0.663818\n",
      "2 -0.409329  0.297105  0.387517 -1.351299 -0.671175  1.446791  0.787964  0.188658 -0.303262  1.218933 -0.330488 -0.989598  0.040959 -0.026874  0.262817 -0.626782\n",
      "3 -0.406776  0.026129  1.134027  0.132872  1.049450 -0.266524  1.099953 -0.324893  1.236320 -0.199848 -0.234347  0.231445  1.264560 -0.198629  0.815607 -0.750214\n",
      "         0         1         2         3         4         5         6         7         8         9         10        11        12        13        14        15\n",
      "0 -0.723166  1.079216 -0.835023  0.166934  0.272085 -0.916572 -0.410067 -0.481029  0.222272  0.876483  1.668253 -0.256576 -0.604121 -0.444785  0.065861 -0.592255\n",
      "1  0.273853 -0.185160 -0.911435 -1.070560  0.351091  0.054179  0.019018 -0.033153 -0.711657 -0.655128 -0.931938  0.028320  0.850061 -0.016309 -0.105175 -1.289230\n",
      "2  0.522192 -0.475160  0.564232  0.555159 -0.950269 -0.088132  0.661278  0.745411  0.999735  0.242241 -0.386038 -0.449746 -0.684061  1.070891  0.547802 -1.354354\n",
      "3 -0.646368  0.387519  0.937692 -0.960231  0.757098 -0.146230 -0.660911 -1.817724 -0.342666 -0.398614  0.144002 -0.879257 -0.590587 -1.169087 -0.838062 -0.757484\n",
      "         0         1         2         3         4         5         6         7         8         9         10        11        12        13        14        15\n",
      "0 -1.123694 -0.490632 -0.969873  0.931167  0.145773 -0.201823 -0.601773 -0.144710  0.020466  0.530041  0.051551  0.043840 -0.658100  0.023489 -0.492192 -0.973204\n",
      "1 -0.051897 -1.360115 -1.934810  0.705302  1.055017  1.180723 -0.723761 -0.508443 -0.880254  0.350233 -0.154697  0.604859 -0.247434 -0.484360 -0.679535 -1.019736\n",
      "2  0.257602  0.469950  1.129563 -0.277319 -0.632661 -0.526108  1.435730  1.030345  0.010228  0.723631  1.860584  0.065148 -0.233617  1.214382 -0.015423 -1.140357\n",
      "3 -0.278025 -0.546248  0.448445  0.875653  0.123467 -0.845524  0.189084 -1.310607  0.031252  0.477922 -0.651224 -0.098903 -0.827235 -0.546397 -0.776441  0.159356\n",
      "         0         1         2         3         4         5         6         7         8         9         10        11        12        13        14        15\n",
      "0 -0.641664  1.197619 -2.329300 -0.396041  0.068789  0.627479  0.687826 -0.222372  0.181981  0.431875  0.899031  0.446792  0.022179 -0.235385 -0.171726 -1.267940\n",
      "1 -0.595131  1.905090 -0.667047 -1.027877  0.210543  0.616148  0.083359  0.333397  0.184915  0.041027  0.754882 -0.574085  0.754013 -0.377830  0.260177 -0.699967\n",
      "2 -0.443590 -0.206128  0.556893  0.695227 -0.194253 -0.030618  1.388950  0.063381 -1.003688  0.486232 -0.717607 -0.604008  0.405333  0.114571  0.671073 -1.288368\n",
      "3 -0.824937  0.184630  0.080226  0.256768  0.471061  0.590892  0.191881 -0.949129  0.336857  0.469584  0.050899 -0.257260 -0.233030 -0.975958 -0.350786 -0.732019\n",
      "         0         1         2         3         4         5         6         7         8         9         10        11        12        13        14        15\n",
      "0 -0.220748  0.360023 -1.024237  0.178027 -0.152356 -1.643444  0.485868  0.050756  0.474205  0.268862  0.360568 -0.298057  0.996054 -0.471506  1.243487 -0.867758\n",
      "1 -0.000809  0.087032  0.065704  0.335165  0.219324  0.846223  0.124260 -0.504060 -1.485798 -0.143321  0.792064  1.116179 -0.314763 -0.778967  0.364694  0.401772\n",
      "2 -0.669865  0.254822 -0.539821  0.178302 -0.296647  1.219341  0.882279  0.657820  0.128835  0.260470  0.047711 -0.194365 -1.124974  0.061604  0.481333 -1.190373\n",
      "3 -0.793593  0.564505  1.548623 -0.223313  0.460875 -0.440554  0.254690  0.698092 -0.347496  0.263125 -0.146794  0.046159  0.093327 -0.299057  0.275547 -0.813763\n",
      "         0         1         2         3         4         5         6         7         8         9         10        11        12        13        14        15\n",
      "0  0.383403  1.891080 -0.065517  0.270183  0.255823 -2.221169  0.110137  1.115725  1.321094 -0.353893 -0.168636  0.685635  0.561390  0.512662  0.056043 -0.983029\n",
      "1  0.269642  1.460815  0.227148 -1.000153 -0.584234  1.253159 -1.493839  0.502029 -0.621892 -0.482922  0.797367  0.451901  0.140092 -0.446006  0.936865 -0.542160\n",
      "2 -0.460843  0.501998 -1.085653  0.119265 -0.115363  0.367117  1.388676  1.182235  0.277042  0.252276 -1.025636 -2.090937  0.372139  0.662250  0.189724 -0.083884\n",
      "3 -1.899599 -0.737961  0.223687 -1.214174 -0.311117 -0.306642 -0.930162  0.365994 -0.261272 -1.129680 -1.093973 -0.854054  0.161647  0.022889  0.402991 -0.388971\n",
      "         0         1         2         3         4         5         6         7         8         9         10        11        12        13        14        15\n",
      "0  0.019981  0.032573 -1.185683 -0.407917  0.339601 -0.633247 -1.669107 -0.675727  0.812817 -0.878210  0.225271  0.117218 -0.624023 -0.568292  0.319431 -0.847448\n",
      "1  0.027675  1.067211  1.090517  0.056668  0.777052  0.062738 -0.169680  0.097347  0.766369 -0.136224 -0.992168  0.598326  0.389196 -0.555030  0.494885 -0.193197\n",
      "2 -0.250358  0.364666  0.947403  0.636018 -0.749204  0.459766  0.852934 -0.134531 -0.413751 -0.333423  0.651078 -0.721747  0.414934 -0.069482  0.359370 -0.580551\n",
      "3 -0.750660  0.777089  0.939542  0.136059 -0.224737  0.456990 -0.388131 -0.162364 -0.199515 -1.000053  0.019914  0.379870  0.883001 -0.767693  0.441445 -0.775997\n",
      "         0         1         2         3         4         5         6         7         8         9         10        11        12        13        14        15\n",
      "0 -0.237160 -0.060343 -0.787064 -0.126506 -0.062035 -0.080611  0.002655 -0.215443 -0.359726  0.046698 -0.082801  1.592092 -0.878055 -0.639113 -1.487309  0.940532\n",
      "1  0.136993  0.388250 -0.514009 -1.102936 -0.131684  0.510015 -1.265348 -0.193965  0.337981 -0.549148 -0.289132  0.137957  0.405917  0.041835 -0.476452 -0.495195\n",
      "2 -1.302109 -0.236690 -0.837958 -0.584496  0.163367  0.561884  0.832240  0.614368 -0.169937  0.800266  0.478386 -0.943341  0.002120  0.414577  1.034360 -0.140246\n",
      "3  0.013042 -0.506727  1.006529 -0.313516  0.624413 -0.049475  0.043632 -0.730201  0.867911 -0.427890 -0.289097  0.070443  0.273872 -0.627845  0.468721 -0.752699\n",
      "         0         1         2         3         4         5         6         7         8         9         10        11        12        13        14        15\n",
      "0 -0.510020 -0.333025 -0.128488  0.286146  0.237844 -0.416046 -0.487473  0.254551  0.090600 -0.625750  0.150891  0.986162 -0.095538  0.402704 -0.970359  0.552630\n",
      "1  0.217489 -0.502920 -0.640988 -0.095421 -1.019260  0.132336 -1.376648 -0.175893  0.058801 -0.462285  0.221713  0.375544 -0.531634 -0.065485 -1.100929 -1.956432\n",
      "2  0.873697 -0.066019  0.132435  0.432741 -0.233053 -0.213546  1.350366  0.859523 -0.374884  0.033227  0.076039 -0.848723 -0.108893  1.394044  0.587279 -0.768140\n",
      "3 -1.214946 -0.528856 -0.397818 -0.405466  0.308619 -0.603431 -0.539502 -1.485489 -0.453945 -0.188989 -0.198773 -0.553872 -1.101755 -0.223381 -0.221008 -0.385525\n",
      "         0         1         2         3         4         5         6         7         8         9         10        11        12        13        14        15\n",
      "0 -0.232614 -0.008057 -0.462323 -0.235044  0.244219 -0.046706 -0.332910 -0.337164 -0.429757  0.019222 -0.155196  1.553056 -1.043728 -0.875860 -1.467682  0.935694\n",
      "1  0.270471  0.240789 -0.559929 -1.030010 -0.221322  0.361195 -1.280669  0.076456  0.365051 -0.540477 -0.330131  0.110795  0.388554  0.218742 -0.439838 -0.713378\n",
      "2 -1.107908 -0.345299 -0.568602 -0.541890  0.647601  0.420748  0.437230  0.849753 -0.094170  0.729751  0.272341 -0.792829  0.040865  0.451846  1.174923 -0.221584\n",
      "3  0.146306 -0.844415  0.628895 -0.454117  0.344951  0.165814  0.084224 -0.622773  1.069135 -0.408021 -0.152555  0.048121  0.166825 -0.840080  0.373562 -0.936534\n",
      "         0         1         2         3         4         5         6         7         8         9         10        11        12        13        14        15\n",
      "0  0.172632 -0.787147  0.328931  0.771997  0.983552 -0.753878 -0.217761  0.669243  0.084471  0.534842 -0.109018  0.443248 -0.450449 -0.113502 -0.594324 -0.737125\n",
      "1  1.025038  0.165993 -0.222404 -0.621545  0.220987  0.529935 -0.695879  1.211326  0.044605  0.338190 -0.207144  0.442075 -0.172496 -0.531709  0.932061 -0.853366\n",
      "2  0.107365 -1.349951  0.650162 -0.167029  0.454828  0.870277  0.522563  0.079375  0.531647 -0.207580 -0.148469 -1.193886 -0.552289 -0.242904  0.845662  0.812834\n",
      "3 -0.752283 -0.696051  0.199715 -0.316082  0.675848 -0.157400 -0.208021  0.154545  0.389018  0.019713 -0.789305  0.053398 -0.063092 -0.369707 -1.016616 -1.006634\n",
      "         0         1         2         3         4         5         6         7         8         9         10        11        12        13        14        15\n",
      "0 -0.689852  0.722801  0.502832  0.302740  0.768890 -0.619859 -0.442548  0.203820  0.835535 -0.406677 -1.308192 -0.647703 -1.178990 -0.787493  0.349562 -1.407756\n",
      "1  1.065279 -0.522508 -0.388703 -0.466727  0.293254  0.525299 -1.234515  0.607055 -0.574867  0.138548  0.149306  0.591597 -0.329136  0.288693  0.522627 -0.898705\n",
      "2 -0.415314  0.462534  0.104629 -0.316975 -0.603862 -0.070096  0.616926  2.173284  0.561514 -0.962538  0.442116 -0.141674  0.298448 -0.064208 -0.061205 -0.670100\n",
      "3  0.303484 -0.581797 -0.494974  0.137392  0.481429 -0.475572  1.028155 -0.443931  0.399243  0.097587 -0.413640  0.288384  0.924645 -1.008156 -0.773809 -0.988282\n",
      "         0         1         2         3         4         5         6         7         8         9         10        11        12        13        14        15\n",
      "0  0.410060  0.222799  1.709966 -0.324853  0.021734 -0.193156 -1.482115  0.191535  0.267802  0.237801  0.372818 -1.346508 -0.196263 -0.120724  0.474364 -1.308446\n",
      "1  0.932965 -0.063869  0.415060 -0.516979  0.862047  0.963798 -0.168351  0.275668 -0.650236 -0.389672  0.142138  1.083826  0.494195  1.124586  0.739763 -1.193152\n",
      "2 -0.518034 -0.312034  0.253809  0.456489 -1.168979  0.524481  2.131163  1.122637  0.577950  0.299904 -0.079372 -1.004370  0.029710  1.061817 -0.423687  0.125684\n",
      "3 -1.098620  0.513056  0.447960  0.516919  1.460838 -0.335326  0.320085 -0.005129  0.217054  0.469500 -0.338964 -0.306463  1.397770  0.911806 -2.050133  0.075993\n",
      "         0         1         2         3         4         5         6         7         8         9         10        11        12        13        14        15\n",
      "0 -0.350275 -0.302046  0.406568 -0.214861  1.698125  1.053369 -0.429024  0.795847 -0.670851  0.231266  1.078950 -0.315295 -0.832568 -0.252499 -0.090955 -0.109581\n",
      "1 -0.592086  0.213278 -0.250048  0.122645  0.590524  0.330726 -0.232089 -0.553002 -0.671726 -0.042918 -0.373531  0.233415  0.133756  0.162059  1.167438 -0.672488\n",
      "2 -0.161652  0.676861  0.216310 -0.097420 -0.283268  0.282990  1.241903  1.072362  0.524454 -1.064125  1.157396 -0.479383 -0.148905  2.092717  0.999473 -1.060623\n",
      "3 -0.799756  1.188546  0.665385  0.502539  0.649154  0.047402  1.162884 -1.520080  0.370739  0.694388 -0.770925  0.393297  0.717249 -1.726535 -1.556133  0.852822\n",
      "         0         1         2         3         4         5         6         7         8         9         10        11        12        13        14        15\n",
      "0  0.323847 -0.336416  0.366303  0.955431  0.818745  0.457077 -0.437886  0.572569  0.008716 -0.452283  0.504715  0.346952 -0.208343 -0.274292 -0.740177  0.588260\n",
      "1  0.266374  0.809240 -0.460358 -0.693465 -0.035176  0.505040 -1.131416 -0.968086 -0.171707 -0.853490 -0.568728 -0.223879 -0.387574  0.219753  0.427059  0.206186\n",
      "2 -0.547653 -0.655289  0.042441  0.180178 -0.254372  1.201459  1.706372  0.525873  1.015340  0.174240  1.099710 -0.536587 -0.616405  1.034658  0.908829 -0.311662\n",
      "3 -1.399151  0.238809  0.737906  0.262318  1.038290 -0.800662 -0.439302 -1.314020  0.654680  0.046076 -1.129702  0.519249  0.011715 -0.417711 -0.287872  0.380662\n",
      "         0         1         2         3         4         5         6         7         8         9         10        11        12        13        14        15\n",
      "0 -0.494978  0.078830 -0.330967 -0.344454 -0.417038 -0.851309  0.684992 -0.110494  0.178135  0.301588  0.967877 -0.565509 -0.444438  0.212747  0.504569 -0.926428\n",
      "1  0.051629 -1.120131 -1.001353  0.753003  1.017946  1.221242 -0.417313 -0.629758 -0.428204 -0.954136 -0.543461  0.296035  0.800299 -0.082485  0.503462 -0.327165\n",
      "2 -0.215938 -0.513024  0.341993  0.620823  0.039874  0.580306  1.451107  0.545521 -0.272573 -0.815122  1.090593 -1.025435 -0.300802  2.077711  0.191275 -0.627801\n",
      "3 -0.740802  0.514907  0.436254 -0.535426  0.456018 -0.911878  0.331756 -0.912571 -0.758023 -0.038227 -1.027891 -0.660602 -0.365600 -0.596084 -1.499438 -1.313800\n",
      "         0         1         2         3         4         5         6         7         8         9         10        11        12        13        14        15\n",
      "0 -0.829346 -0.337939 -0.754045  0.112738  0.097527  0.058686  0.808787 -0.325400  0.725619  0.357616 -0.219809  0.436533 -1.112535 -1.004727 -0.565453 -0.742338\n",
      "1 -1.169661 -0.965498 -1.138985 -0.760892  0.652233  0.015132 -0.578755  0.248926 -0.076982  0.076627 -0.745407  0.293598  0.407400  0.268035  0.507415 -0.348615\n",
      "2 -0.163987 -0.767451  0.187791  0.331221 -0.579187 -0.502189  2.098489  0.020332  0.245769  0.000398 -0.077816 -0.972417 -0.043245  0.703876  1.107183 -0.536432\n",
      "3 -0.806323  0.503016 -0.101495  0.092807  0.419693  1.172369  0.290555 -1.468823 -0.204251 -0.531052 -0.876491 -0.932808 -1.407703 -1.165400 -0.782725 -0.734654\n",
      "         0         1         2         3         4         5         6         7         8         9         10        11        12        13        14        15\n",
      "0 -0.083765  0.552074  0.188149 -0.464496  1.248423 -1.315210  0.503652 -0.753413  0.078969 -0.297498  1.250112 -0.415190 -0.873680  0.023147  0.715419 -1.239567\n",
      "1  0.222997  0.388715 -0.697561  0.768059 -0.917067  0.164837 -1.371035 -0.194109 -0.571168  0.897917  0.358110  0.109924 -0.273479 -0.755343  0.133386 -1.758105\n",
      "2  0.630066  1.381224 -0.227179  0.167528 -0.235599 -0.352205 -0.490075  0.851315 -0.726415 -0.592668  1.084117 -1.228430  1.496114  1.607162  0.142489 -0.931357\n",
      "3 -0.352198  1.314732  0.410100 -0.674689 -1.052050  0.976920  0.916893 -1.047554 -0.546291 -1.251486  1.326865 -0.274865  0.325948 -1.663130 -1.967749 -1.506098\n",
      "         0         1         2         3         4         5         6         7         8         9         10        11        12        13        14        15\n",
      "0 -1.081630  0.084383  0.417047 -0.088508  0.269874 -0.907657 -0.051802  1.651097  0.684044 -0.607907  0.506321  0.477731  0.854856 -0.994470  0.404230 -1.467970\n",
      "1 -0.567132 -1.263959 -0.214302  0.466733  0.302785 -0.099755 -0.149927  0.884929 -0.361601  0.799570 -0.029173  0.677734  0.126191 -0.587100  1.232454 -1.311387\n",
      "2 -0.255823 -1.207015  1.704896  0.553348  1.378651  0.267582  1.239709  1.144826 -0.442145 -0.434390  1.046875 -0.616148 -0.516213  1.899165  1.267271  0.098428\n",
      "3 -0.711372 -0.585761 -0.961366 -1.020414 -0.827049  0.377292 -0.862331  0.305854 -1.420107 -0.495136  0.700522 -0.172839 -1.398410 -0.631842 -0.974381 -0.531767\n",
      "         0         1         2         3         4         5         6         7         8         9         10        11        12        13        14        15\n",
      "0 -1.307609  1.050048 -0.491720 -0.353732  0.281921  0.062277 -0.311235 -0.909361 -0.061034  0.257900  0.986692 -0.362327  0.044934 -0.361333  0.244861  0.700968\n",
      "1  0.516623  1.129690 -0.554102 -0.922699  0.647795  0.272348 -0.042730  0.010968 -1.117809 -1.273447  0.009311 -0.200182 -0.653778  0.402552 -0.638795 -1.246809\n",
      "2  0.335993  0.543812  0.256255 -1.103309  0.622290  0.092470  0.477977  1.217476 -0.161637 -0.561545  0.227646  0.418404 -1.344598  0.219958  1.043884 -1.603404\n",
      "3 -0.145975 -0.582741  0.673968 -0.195009  0.220085 -0.254204  0.362923 -0.554267  0.070043  0.499623 -0.509015 -0.204675 -0.689354 -0.963892 -0.302286 -0.815422\n",
      "         0         1         2         3         4         5         6         7         8         9         10        11        12        13        14        15\n",
      "0 -0.728334  0.780442 -0.556994 -0.172644 -0.556465 -0.466787 -0.205575 -0.395038  0.669534  0.274698  0.525791  0.140237 -0.771950  0.531580  0.869716 -2.041685\n",
      "1  0.732290  0.394534 -0.270050  0.565210  0.909637  0.440705 -0.312566 -0.021931 -0.044104 -0.278742 -0.000796 -0.018046  0.295408 -1.027578 -0.733592 -1.181775\n",
      "2  0.513099  0.326425  0.686699  0.414102 -0.907286 -0.812901  0.531654  0.536122 -0.286099  0.262365  0.788768 -0.621151  1.004923  0.566499 -0.557969 -1.899367\n",
      "3 -0.660228 -0.165709  0.150852 -0.055370 -0.776020 -1.315998  0.262795 -1.405784 -0.057830  0.239395  0.887171 -0.067862 -0.154538 -0.522913 -0.925222 -1.340759\n",
      "         0         1         2         3         4         5         6         7         8         9         10        11        12        13        14        15\n",
      "0 -0.901061  0.527535 -0.003300 -0.957178  0.098012 -1.155093  0.630361 -0.083849  0.190457  0.128996  1.380410 -0.188108  1.317151  0.859649  0.508646 -0.310973\n",
      "1 -0.248704  0.233595  0.261911 -0.147535 -0.400318  0.384994 -0.402488 -0.046704 -0.049629 -0.886845  0.601081  0.489139  0.562726  0.815574  0.194508 -1.098554\n",
      "2  0.024916 -0.788218  0.149186  0.192741 -0.751496  0.967345 -0.024139 -0.256847 -0.263795  0.192275 -0.860750 -1.204614  0.819869  0.817095 -0.658177 -0.192596\n",
      "3 -0.826094 -0.629851  0.209725 -1.312580  0.913324 -0.642841  0.181561 -2.210495 -0.753446  0.604011 -0.132464 -0.737780 -0.729573  0.228851  0.226579 -0.935745\n",
      "         0         1         2         3         4         5         6         7         8         9         10        11        12        13        14        15\n",
      "0 -0.862856  0.825228 -0.089680 -0.379265 -0.082058 -1.253921  0.687611 -0.446564  0.113178 -0.016661  0.027892 -0.472557 -0.757253 -0.668053  0.358953 -0.623871\n",
      "1 -0.367826 -0.499573 -1.093606 -0.531187 -0.751681 -0.922390 -0.536887  0.424426 -0.313115 -0.132058 -0.043505  1.143766  0.121914 -0.453794  0.127047 -0.176877\n",
      "2 -0.924579  0.083862 -0.650861 -0.232232  0.552360  0.198941  0.591851  1.009353 -0.268704 -0.798852 -0.716165 -1.090550 -0.662870 -0.312608  0.496035 -0.892928\n",
      "3 -0.470036 -0.179258  0.172892 -1.374609  0.254605 -0.822578 -0.318630 -1.162589 -0.688163 -0.073031 -0.435873 -0.129794 -0.156565 -0.997602 -0.377926 -1.099925\n",
      "         0         1         2         3         4         5         6         7         8         9         10        11        12        13        14        15\n",
      "0  0.193754  0.568132 -1.152641 -0.321839  0.764463 -0.068117  0.190853 -0.262792 -0.040192 -0.870248 -0.373144  1.289024 -0.606309 -0.352454 -0.628022 -0.125091\n",
      "1 -0.245055  0.975631 -0.121174 -1.520179 -0.567855  1.259835 -0.963568  0.115128 -0.283018 -0.009877 -0.376161 -0.265407  0.760237 -0.684348  0.115253 -0.411779\n",
      "2 -1.416086 -0.284208  0.517856  0.747633 -0.145538  0.781698  0.992310  0.355191 -0.564057 -0.225247 -0.635735 -0.852353 -0.573920  0.559163  0.512292  0.295164\n",
      "3 -0.907315  0.027365  0.836353 -0.836136  0.310431  0.360561  0.216028 -0.946312  0.522406 -0.858521 -0.070451  0.195664 -1.206813 -0.556886  0.555717 -0.313083\n",
      "         0         1         2         3         4         5         6         7         8         9         10        11        12        13        14        15\n",
      "0 -0.899074  0.145349  0.124779  1.141918 -0.607767 -0.601728 -1.404305  0.581295  0.885419 -0.883749 -1.266731  0.535026 -0.925738 -0.399702  0.124241 -0.429469\n",
      "1  0.807668 -0.917052  0.540335  0.698322  0.531466  0.742491 -0.518078 -0.734276 -0.257817 -0.273321 -0.630096  1.028032  0.160955 -0.721637  0.723344 -0.091537\n",
      "2 -0.167363 -0.249546  1.960904 -0.081571 -0.094609  0.091478  1.853618  2.091460  1.311764  0.170610  1.372600  0.506614 -0.171702  2.062565  0.685844 -0.031399\n",
      "3 -0.579520 -0.505878  0.394279 -0.044598  0.373581 -0.062198  0.114164 -0.453360  0.290712 -0.334877 -0.441346  0.226836  0.117450  0.027662 -0.324634 -0.440496\n",
      "         0         1         2         3         4         5         6         7         8         9         10        11        12        13        14        15\n",
      "0  0.003857  0.762213 -0.471653  1.116617 -0.719246 -0.326134 -0.220098  0.511245  0.600410  0.055449 -0.643473  0.510847 -0.489846 -0.169044 -0.925565  0.273220\n",
      "1  0.327981  0.139258  0.318500 -0.571608 -0.619270  0.593200 -0.312154  0.331792 -0.393874 -0.974851 -0.414374  0.986726  0.480705 -0.347814  0.100070 -0.726059\n",
      "2 -0.897369 -0.330114 -0.193899 -0.318752  0.714788 -0.311265  0.797542  0.687962  0.763197  0.577526  0.287968 -0.024270 -0.337418  0.647179  0.417612 -0.717519\n",
      "3  0.074876 -0.908474  0.405974 -0.948381  0.322060 -0.728513 -0.186208 -0.711949  0.336288 -0.795440 -0.672075 -0.721014  0.143075 -0.370754 -0.319755 -0.076645\n",
      "         0         1         2         3         4         5         6         7         8         9         10        11        12        13        14        15\n",
      "0  0.366223  0.358857  1.633335 -0.351051 -0.150390 -0.457409 -1.927788  0.207671  0.375134  0.110508  0.166418 -1.050106 -0.349652  0.153761  0.264663 -1.380219\n",
      "1  1.420160 -0.327771  0.013930 -0.233629  0.676752  0.876761 -0.304682  0.281691 -0.634232 -0.497364  0.085312  1.261997  0.327972  0.920733  0.570239 -1.496826\n",
      "2 -0.365662 -0.214190  0.455348  0.686774 -0.970135  0.329094  2.100469  1.361643  0.828019  0.547642 -0.129540 -0.785411  0.060625  1.083854 -0.224122  0.310154\n",
      "3 -0.953355  0.144451  0.270663  0.565608  1.174919 -0.304072  0.226297  0.167134  0.072959  0.361929 -0.065185 -0.485718  1.176688  0.968799 -1.806540 -0.178140\n",
      "         0         1         2         3         4         5         6         7         8         9         10        11        12        13        14        15\n",
      "0 -0.134522  0.317393 -0.370646  0.358929  0.443180 -0.087710  0.403390 -0.075233  0.737087  0.912436  0.842294 -0.203800  1.057592 -0.373679 -0.201194 -1.148291\n",
      "1 -0.170254 -0.469670 -0.456089 -0.039137 -0.108653  0.858723 -0.553957 -0.088394 -0.508792 -1.001111 -0.015079 -0.747971  0.585867  1.488413  0.108880 -0.723289\n",
      "2 -0.579889 -1.518740  0.037055  0.674908 -0.546151  0.190711  0.783943  0.672519 -0.298054  0.281839  0.101464  0.097323  0.482572  1.147741  0.776197 -0.759593\n",
      "3 -1.293566  0.103493  0.245325 -0.033765  1.122341 -0.712377  0.242938 -0.511805  0.680631  0.633300 -1.396438 -0.983903  0.700588 -1.155439 -0.866257  0.356713\n",
      "         0         1         2         3         4         5         6         7         8         9         10        11        12        13        14        15\n",
      "0 -0.006441  0.700053 -0.357234  1.074965 -0.484389 -0.073527  0.339721  0.602116  0.529845  0.230056 -0.371601 -0.024201 -0.230473 -0.684743 -0.494709  0.258210\n",
      "1 -0.294861  0.484909  0.916657 -0.904052 -0.373456  0.679698 -0.089943  0.442164 -0.548749 -0.858987 -0.358641  0.857219  0.749416 -0.140254  0.406763 -0.304522\n",
      "2 -1.005659 -0.459480 -0.461627 -0.695851  0.657003 -0.093772  0.634674  0.485728  0.442237  0.145160  0.127382 -0.333222 -0.230304  0.497802  0.156166 -1.170887\n",
      "3 -0.144262 -0.609277  0.453476 -1.122513  0.555190 -0.754469 -0.107667 -0.809274  0.587552 -0.683475 -1.026008 -0.584728  0.430681 -0.423254 -0.668018  0.162470\n",
      "         0         1         2         3         4         5         6         7         8         9         10        11        12        13        14        15\n",
      "0  0.131210  0.229497 -0.705056 -0.099548  0.784622  0.933112 -0.033616 -0.015371  0.235087 -1.802861  0.049243 -0.526446  0.355819 -1.173295  0.213261 -1.047299\n",
      "1 -0.147237  0.795789 -0.367972  0.613982  0.898417  0.670111 -0.058584 -0.576946 -1.191948  0.459701  0.027191 -0.132338  0.846079  0.824068  0.681864  0.066207\n",
      "2 -0.623504  0.890223 -0.232531 -0.570675 -0.675859  0.571630  2.733317  1.590349 -0.655763 -0.056461  0.416610  0.372263 -1.327186  1.244546  0.294641 -0.554499\n",
      "3 -1.948664 -0.067034  0.386931  1.292648  0.796381  0.348328  2.138278 -0.646016  0.372443  0.679012 -0.718621 -0.243656 -0.784474 -1.207436  0.321040  0.215069\n",
      "         0         1         2         3         4         5         6         7         8         9         10        11        12        13        14        15\n",
      "0 -0.367950 -0.554759 -0.362026 -0.335344 -0.501477 -0.499080 -0.591778  0.350803  0.574125 -0.770679 -0.159283 -0.918963 -1.237906 -0.980511  0.601604 -0.791425\n",
      "1 -0.173090 -0.567589 -1.044956  0.598073  0.527537  0.113895 -1.679586 -0.661080  0.037626 -0.162419 -0.513389  0.594045  0.114492 -0.101824  0.535758  0.148623\n",
      "2 -1.012847  0.366049 -0.038400 -0.334255  0.167119  1.020030  0.866016  1.257835 -0.177320 -0.060805  1.027636 -1.090089  0.608715 -0.000108  0.499890 -0.985729\n",
      "3 -0.743742  0.400286 -0.296885 -0.077500  0.679225 -0.975136  0.451846 -1.249685 -0.172103 -0.124880 -0.972686  0.161981 -0.021627 -1.223946 -0.108250 -0.934525\n",
      "         0         1         2         3         4         5         6         7         8         9         10        11        12        13        14        15\n",
      "0 -0.169580 -0.900693 -0.303899  0.774070  0.161512 -1.031504  0.454002  0.721626  0.163249  0.936186  0.299135  0.089241 -0.643500  0.127839 -0.373991 -0.940113\n",
      "1  0.742751 -0.304178 -0.135895 -0.369712  0.444350  0.582458 -0.278696  0.772951  0.210640  0.256745 -0.319658  0.374418  0.071132 -0.864142  0.858867 -0.867804\n",
      "2  0.311534 -1.245400  0.695825 -0.227648  0.229043  0.833837  0.572298 -0.379740  0.182441 -0.683644  0.477294 -1.595332 -0.438402  0.415123  0.620183  0.681485\n",
      "3 -0.450387 -0.083827  0.284949 -0.616622  0.848352 -0.146991 -0.409139  0.085792 -0.212090 -0.494643 -0.853659 -0.260552 -0.196709 -0.170220 -1.245998 -1.182124\n",
      "         0         1         2         3         4         5         6         7         8         9         10        11        12        13        14        15\n",
      "0 -0.574489  0.080507 -0.302476 -0.378553 -0.635440 -0.526665  0.123107 -0.550460  0.332682  0.159732  0.249698  0.028126 -0.629089 -0.828435  0.732654 -0.748032\n",
      "1 -0.809573 -0.700534 -0.608664 -0.619204 -0.075540 -0.066357 -0.875388  1.301823 -0.319862  0.065871  0.127403 -0.864381  0.426162  0.169119 -0.301523 -0.873685\n",
      "2 -0.223974 -0.485873  0.099226 -0.058439 -0.323762 -0.615601  0.455551  0.227225 -0.117406  0.031113  0.276633 -1.111197  0.120377  1.338960  0.495588 -0.229587\n",
      "3 -0.522984 -0.290929 -0.214915 -1.147472  0.006203  0.270919  0.075892 -0.318665  0.660677 -0.876778 -0.385273 -0.650564 -0.935685 -0.622339  0.188152  0.239379\n",
      "         0         1         2         3         4         5         6         7         8         9         10        11        12        13        14        15\n",
      "0 -0.711367 -0.306293 -1.063761 -0.222341 -0.530756 -0.955301  1.148557 -0.560924  0.705011  0.125003  0.569257  0.098303 -0.779993 -0.256529  0.145921 -0.310930\n",
      "1 -0.164130  0.608102 -0.611980  0.298075  0.266749  0.129284 -0.858132 -0.061232 -0.578822 -0.271839 -0.699147  0.837632  0.600295 -0.346097 -0.000392 -1.029350\n",
      "2 -0.287816 -0.220788  0.276693 -0.379125  0.101825 -0.148194  1.102322 -0.117535 -0.807075  0.011700  0.984195 -1.078674  0.256105 -0.056342 -0.095812 -0.595500\n",
      "3  0.328158 -0.229945  0.315119 -0.741811 -0.783998  0.208790 -0.323030 -0.461567 -0.229404 -0.636504 -0.180799 -0.077381  0.298830 -0.356907 -1.211015 -0.874235\n",
      "         0         1         2         3         4         5         6         7         8         9         10        11        12        13        14        15\n",
      "0  0.047339 -0.328309 -0.808546 -0.710814  1.361837 -0.179967  1.887841 -0.618152 -0.659136 -0.084595  1.793005  0.390535 -0.713659 -0.180583 -0.102157 -1.021225\n",
      "1  0.459799  0.127345 -1.276774 -0.134179  0.453325  0.374513  0.757493 -0.300173 -1.489416  0.927884 -1.359954  0.521328  0.582099 -0.528654  0.929174 -0.517383\n",
      "2 -0.154645 -1.234345  0.794422  0.244808 -0.296317 -0.650481  1.271776  0.519497 -0.021060 -0.087875 -0.340051  0.191601 -0.741376  0.681403  1.024640 -0.285210\n",
      "3 -0.624791  0.238402  0.888535  0.247274 -0.218679  1.805306  0.368661  0.023943 -0.891345 -0.799486  1.245013 -0.170800 -0.172053 -2.112063 -1.738046 -1.274359\n",
      "         0         1         2         3         4         5         6         7         8         9         10        11        12        13        14        15\n",
      "0 -1.623977 -0.074527 -0.923705  1.074751  0.739256  0.114470  1.093148 -0.296661  0.019123 -1.261479  0.833144  0.156515  0.787121 -0.350824 -0.308077  1.175713\n",
      "1 -0.074870  0.174948  0.269264  0.200122  0.612240  0.339650  0.096049 -0.091824 -1.427351 -0.053984 -0.064265  0.652638 -0.300131 -0.600178 -0.907157 -0.837541\n",
      "2  0.413475 -0.302633  0.182803 -0.557638  0.265846  0.119975  1.169302  0.094953 -0.732857 -0.464292  1.755944  0.074475 -1.041555  1.460655  1.049667 -0.903585\n",
      "3 -0.835644 -0.999603  0.940032 -0.069111  0.013776 -0.339430  0.619230 -0.893816 -0.667245 -0.044088 -0.284972  0.648216 -1.006410 -0.284270  0.126763 -0.636283\n",
      "         0         1         2         3         4         5         6         7         8         9         10        11        12        13        14        15\n",
      "0 -0.880187  0.846954 -1.592192  0.133143  0.446949  0.307303  0.478623  0.446387  0.003753 -0.622394  0.961546  1.002564  0.930468 -0.210906  0.409358 -0.741130\n",
      "1  0.210623  0.722046  0.499333 -0.442682 -1.076590 -0.331015  1.239243  0.094273 -1.098416  0.084849  1.339123 -0.243644  1.150718 -0.244744  0.430703 -0.065558\n",
      "2 -0.725718 -1.017182  0.011048  0.616652  0.061699  0.119376 -0.486183 -0.578766 -0.867550  0.056670  0.189451 -0.717602  0.263765  1.082715  0.603432 -1.203250\n",
      "3 -1.233279 -0.058291  0.840038 -1.356804  1.138990 -0.023957  0.283923 -0.627640 -0.172211  0.297192 -0.164289 -0.790450 -2.045075  0.253758  0.296444 -0.978121\n",
      "         0         1         2         3         4         5         6         7         8         9         10        11        12        13        14        15\n",
      "0 -1.211311  1.050372  0.133225 -0.682121  0.074963 -0.411693  0.197942  1.065273 -0.137741 -0.098343  2.274323  0.365381  1.784852 -0.118110  0.862234 -1.363460\n",
      "1 -0.455835  0.703387  0.228424 -0.154053 -0.356994 -0.050312 -0.447849 -0.824384 -0.583488  0.123902  0.611273  0.134102 -0.068474 -0.920663  0.970900  0.037431\n",
      "2  0.356438  0.505488  0.501180 -0.261383 -0.130707  0.838864  0.901050 -0.322252 -0.935223 -0.407268  0.997271 -1.085754  0.492594  0.740367 -0.001031 -0.976470\n",
      "3 -1.648320  0.765695  1.274665 -0.662186  0.285756 -1.505811 -0.929692 -0.976601 -1.153756  0.080041  0.047578 -0.350178 -1.428635 -0.037779 -0.734376  0.621444\n",
      "         0         1         2         3         4         5         6         7         8         9         10        11        12        13        14        15\n",
      "0  0.088491 -0.438990 -0.255056 -0.035203  0.129548 -0.294395 -0.399965  0.678207  0.201208 -0.517002  0.523619 -0.251463 -0.895887 -0.294269  0.163391 -1.178079\n",
      "1 -0.830586  0.235628 -0.370360  0.047490  0.899108 -0.478717 -0.130337 -0.701600 -0.107232  0.203152 -0.172134  0.845840  1.133493  0.432534  1.048321 -1.181215\n",
      "2 -0.883250 -0.790241  0.129643  0.601860 -0.514098  1.989074  2.299415  0.401961  0.424105 -0.074563  0.935112 -1.441045 -0.260315  1.599511  0.174771  0.095331\n",
      "3 -1.247984  0.103734 -0.094533 -1.038869  1.617962 -0.299525  0.826082 -1.810412  0.101061  0.306089 -0.270193 -0.532156  0.508633 -0.272759 -0.491461 -0.308690\n",
      "         0         1         2         3         4         5         6         7         8         9         10        11        12        13        14        15\n",
      "0 -0.634168  0.121074  0.083085 -0.024700 -1.074040 -0.509051 -0.167652 -0.809825  0.517170  0.197948  0.521461  0.470165 -0.388665 -1.006228 -0.591411  0.297254\n",
      "1 -0.339335  0.190416 -0.442995 -0.509775 -0.468905  0.203085 -2.186363  1.117051  0.081071 -0.546246 -0.769490  0.152042 -0.221780 -0.163641 -1.059656 -0.413144\n",
      "2 -0.341891  0.439828  0.155929 -0.735915  0.013864  0.565155  1.311863  0.572329  0.319017  0.357798  0.618932 -0.719033 -1.092743  0.436413  0.403816  0.474416\n",
      "3  0.065160 -0.181330  0.512031 -0.114174 -0.158167 -0.502841  0.514874 -1.357135  0.552959 -0.395711 -0.811360 -0.129166 -0.142100 -0.920443  0.063250 -0.261673\n",
      "         0         1         2         3         4         5         6         7         8         9         10        11        12        13        14        15\n",
      "0 -0.345237  0.372960  0.826445 -0.353296 -0.617827 -0.108737 -0.566512  0.154278  0.201004 -0.569021  0.045799  0.634690 -0.690886  0.408746 -0.080749 -0.830558\n",
      "1  0.998984  0.981132 -0.482235  0.043778  0.626072  1.150619 -1.217543 -0.486724 -0.029243 -1.206098 -0.541835  0.965334  0.130219 -0.251543  0.991504 -1.064435\n",
      "2 -0.141556  0.190676  0.930547  0.273772 -0.940475 -0.012597  2.272731  0.671346  0.322406  0.758812  0.605775 -0.991403  0.457518  0.419323  0.729287 -0.224930\n",
      "3 -1.041316  0.523856  0.853778  0.594958 -0.212764  0.354540  0.692702 -1.031546 -0.240356  0.374894 -0.172042 -0.218110  0.222747 -0.245758 -0.656199 -0.764940\n",
      "         0         1         2         3         4         5         6         7         8         9         10        11        12        13        14        15\n",
      "0  0.420358  0.284959  1.595547 -0.283200 -0.213123 -0.445763 -2.041933  0.100664  0.338367  0.063194  0.100945 -0.811459 -0.455636  0.394974  0.043508 -1.293437\n",
      "1  1.555806 -0.409520 -0.183098 -0.184534  0.616233  0.877300 -0.390562  0.165295 -0.495360 -0.505537  0.086404  1.213333  0.225485  0.917026  0.433070 -1.614688\n",
      "2 -0.409744 -0.182668  0.521537  0.833587 -1.111194  0.306988  2.294031  1.324872  0.898909  0.732270  0.081215 -0.695418 -0.077404  1.211194 -0.162241  0.579051\n",
      "3 -0.879482  0.213860  0.400459  0.691051  1.227709 -0.309370  0.241544  0.092196 -0.034210  0.357536  0.014969 -0.442750  1.110164  0.964307 -1.701870 -0.163123\n",
      "         0         1         2         3         4         5         6         7         8         9         10        11        12        13        14        15\n",
      "0 -0.536881  0.018161 -0.964237 -0.268469  1.293162 -0.826666 -0.171356 -1.152650  0.780375  0.755924  0.265108 -0.028049 -1.001160 -0.473653  0.743878 -0.374313\n",
      "1  0.280451 -0.567397 -1.154517  0.395957  1.034433  0.864959 -1.041675 -1.058179 -0.909438  0.018818 -0.541007  0.376565  0.485272  0.228267  0.600854  0.108792\n",
      "2  0.662062  0.125696  0.896467 -0.046868 -0.167402  0.113824  1.143751  1.799086  0.392466 -0.139217  0.513110 -0.405914 -0.097752  0.867001 -0.384387 -1.606179\n",
      "3 -1.309860  0.587198  0.268292 -0.258361  0.421954 -0.004990  0.545495 -0.310933  0.271501 -0.526783 -1.769597 -0.131645 -0.233267 -1.647194 -1.042709 -0.208077\n",
      "         0         1         2         3         4         5         6         7         8         9         10        11        12        13        14        15\n",
      "0  0.336634  0.450528 -0.396420 -0.536232  0.233258  0.056775 -0.020429  0.013582  0.697859 -1.051823  0.221374  0.795571 -1.964521 -1.021043  0.196189 -0.338120\n",
      "1 -0.099118  0.114080 -1.198595  0.453521  0.405956  0.341715 -0.956320  0.766033 -0.154347  0.049135 -0.548841  0.093963 -0.678351 -1.186477  0.104635 -0.498908\n",
      "2 -0.397971  1.242435  0.507007  0.210933  0.378957 -0.327071  0.543737  1.270082 -0.252721 -0.650660 -0.190252 -0.623275 -0.379391  0.411750  0.785012 -0.742977\n",
      "3 -0.607544 -0.013775  0.043338 -0.232110 -1.041593  0.674250  0.554919 -0.355935  0.667715 -0.033710 -0.327770 -0.248270 -1.027186 -0.398899 -0.854465 -0.389995\n",
      "         0         1         2         3         4         5         6         7         8         9         10        11        12        13        14        15\n",
      "0  0.218678 -0.207256 -0.063120 -0.116287  0.922658  0.252373  0.794523 -0.604975 -0.770917  0.291925  1.092569  0.185259  0.377948 -0.683577 -0.844712  0.218325\n",
      "1 -0.661909  0.809946  0.088991 -0.527987 -0.088728  0.015593  0.161162  0.310859 -0.099625  0.463977 -0.062848 -0.880576  2.366041  1.582130  1.205662  0.186823\n",
      "2 -1.516951 -1.276081 -0.198495 -0.397993  1.095211  1.080157  0.629507  0.054359 -1.155803 -0.225070  0.486139 -0.075232 -0.535689  0.812709  0.123602  0.669593\n",
      "3 -1.019156  0.209923  0.701056 -0.838624  1.063599 -0.432883  0.776491 -0.532441  0.577181 -0.202249 -1.411881  0.289262  0.242069 -1.416415 -1.570219  0.531684\n",
      "         0         1         2         3         4         5         6         7         8         9         10        11        12        13        14        15\n",
      "0 -0.126184 -0.055481 -0.661212 -0.489563  1.028741 -0.099810  1.676827 -0.734950 -0.238070  0.108637  1.301339 -0.605050 -0.451635  0.001450 -0.112115 -0.575579\n",
      "1  0.282769 -0.228787 -1.458159 -0.003139 -0.433204  1.355314 -0.464745 -0.004611 -0.542381 -0.667700 -0.676108 -0.487065  0.271369  1.107854  1.064127  0.753166\n",
      "2 -0.817134 -0.753520  0.198115  0.752682  0.626249  0.106555  1.389550  0.750919  0.603797 -0.676496  0.284598 -0.095894 -1.558428  0.326430 -0.010044  0.458618\n",
      "3  0.155836 -0.027700 -0.100144  0.483031  1.264204 -0.871083  0.501415 -1.103946 -0.908278  0.817655 -0.493920 -0.150460 -0.893006 -1.907796 -0.918990 -0.221211\n",
      "         0         1         2         3         4         5         6         7         8         9         10        11        12        13        14        15\n",
      "0 -0.277418  0.246376 -0.601657 -0.210413  0.107799  0.077138 -0.097488 -0.292097  0.771775 -0.315623  0.245989  1.025788 -0.175407 -0.789860 -0.096580 -1.040965\n",
      "1 -0.643826 -0.143381  0.631546 -0.017198  0.068694  0.455359 -0.895152  0.056046  0.862256  0.435125  0.201999 -0.768973  0.511355  0.500810  0.395541 -0.231526\n",
      "2 -1.250075  0.167540  1.045481 -0.242556 -0.737293  0.694713  1.263334  0.472613 -0.603182 -0.307804  1.103258 -0.099312 -1.495184  0.965583  0.402218  0.089011\n",
      "3 -0.000811  0.331745  0.477543 -0.472608  0.374527 -0.802578  0.488088 -0.843799 -0.160186  0.421092 -0.810565  0.732119 -1.370003 -0.999412 -0.365771  0.094420\n",
      "torch.Size([4, 16, 4, 16])\n"
     ]
    }
   ],
   "source": [
    "# Define Query, Key, Value weight matrices\n",
    "Wq = nn.Linear(d_model, d_model)\n",
    "Wk = nn.Linear(d_model, d_model)\n",
    "Wv = nn.Linear(d_model, d_model)\n",
    "\n",
    "Q = Wq(query) #[4, 16, 64]\n",
    "Q = Q.view(batch_size, -1, num_heads, d_model // num_heads)  #[4, 16, 4, 16]\n",
    "\n",
    "K = Wk(key) #[4, 16, 64]\n",
    "K = K.view(batch_size, -1, num_heads, d_model // num_heads)  #[4, 16, 4, 16]\n",
    "\n",
    "V = Wv(value) #[4, 16, 64]\n",
    "V = V.view(batch_size, -1, num_heads, d_model // num_heads)  #[4, 16, 4, 16]\n",
    "\n",
    "# print(torch.round(Q[0] * 100) / 100)\n",
    "qqq = Q.detach().cpu().numpy()\n",
    "for qs in qqq:\n",
    "    for qss in qs:\n",
    "        print(pd.DataFrame(qss))\n",
    "\n",
    "print(Q.shape) # [4, 16, 4, 16] [batch_size, context_length, num_heads, head_size]"
   ],
   "metadata": {
    "collapsed": false,
    "ExecuteTime": {
     "end_time": "2024-02-01T12:57:35.897434Z",
     "start_time": "2024-02-01T12:57:35.599265Z"
    }
   },
   "id": "37ba89375b2f44ca",
   "execution_count": 17
  },
  {
   "cell_type": "code",
   "outputs": [],
   "source": [
    "# Transpose q,k,v from [batch_size, context_length, num_heads, head_size] to [batch_size, num_heads, context_length, head_size]\n",
    "# The reason is that treat each batch with \"num_heads\" as its first dimension.\n",
    "Q = Q.transpose(1, 2) # [4, 4, 16, 16]\n",
    "K = K.transpose(1, 2) # [4, 4, 16, 16]\n",
    "V = V.transpose(1, 2) # [4, 4, 16, 16]"
   ],
   "metadata": {
    "collapsed": false,
    "ExecuteTime": {
     "end_time": "2024-02-01T12:57:35.902846Z",
     "start_time": "2024-02-01T12:57:35.897895Z"
    }
   },
   "id": "a6b2187b2d310a2e",
   "execution_count": 18
  },
  {
   "cell_type": "code",
   "outputs": [
    {
     "name": "stdout",
     "output_type": "stream",
     "text": [
      "torch.Size([4, 4, 16, 16])\n",
      "torch.Size([4, 4, 16, 16])\n",
      "          0         1         2         3         4         5         6         7         8         9         10        11        12        13        14        15\n",
      "0   0.271247  0.560849 -0.497451 -0.129847 -0.363947 -0.685937  0.185218 -0.109630 -0.582609 -0.399922 -0.526987  0.009846  0.095429 -0.417190 -0.294367  0.189911\n",
      "1  -0.045627  0.335207 -0.261123  0.401420 -0.060368  0.060264  0.264576  0.356827  0.278763 -0.405287  0.052244 -0.403992  0.486559  0.041878  1.014870  0.202047\n",
      "2  -0.062706  0.149768 -0.373623 -0.014540  0.501353  0.051065  0.528086 -0.215684 -0.363876 -0.507898 -0.526590 -1.015162  0.636724 -0.353700  0.629859  0.337414\n",
      "3   0.489974  0.889258 -0.396356  0.726592  0.525897 -0.280680 -0.086416 -0.236879 -0.139481  0.180077  0.160038 -0.278772  0.029830  0.025996  0.100336 -0.437344\n",
      "4   0.366094  0.809745  0.008297  0.004744  0.321938 -0.265212 -0.031628  0.000414 -0.327081  0.007050  0.058440  0.219607  0.311964 -0.035971  0.080204  0.044314\n",
      "5   0.086671  0.772399 -0.768684  0.338177  0.517480  0.012420  0.335387 -0.283661  0.073089 -0.119132 -0.079181  0.178269  0.595736  0.069439  0.097363  0.496599\n",
      "6  -0.917973  0.179699 -1.242398  0.295149  0.050819 -0.538681  0.316469 -0.602451  0.000879  0.257434  0.622034 -0.252260  0.048440  0.603582 -0.315566 -0.246330\n",
      "7   0.485319  1.187169 -0.421335  0.609655  0.178571 -0.377602 -0.150101 -0.018908  0.147505  0.090906  0.280693  0.105192  0.616787 -0.289057  0.113308  0.034955\n",
      "8   0.442679  1.010227  0.541597  0.759292  0.351397  0.068198 -0.331880  0.620946  0.515219  0.133559  0.251447  0.222155 -0.078039  0.416460  0.846286  0.007500\n",
      "9  -0.378671 -0.184779 -0.172620  0.340819  0.176497  0.439594  0.154800  0.048620  0.835482 -0.098898  0.118051  0.307614 -0.602386  0.551086  0.633898  0.121890\n",
      "10  0.634922  1.067505 -0.084768  1.119899  1.075548  0.098884 -0.157741 -0.611069  0.047325 -0.438557 -0.203146 -0.253197 -0.032359 -0.314876 -0.157880  0.322685\n",
      "11  0.714039  0.273180  0.165909 -0.122726  0.084472  0.506430 -0.043268  0.122951  0.421487  0.044874 -0.884315  0.804205  0.233541 -0.574858  0.174786  0.648655\n",
      "12  0.522655  0.665469 -0.735746 -0.020036  0.108930 -0.535809 -0.394747 -0.308567 -0.607481 -0.350354 -0.753023 -0.458779 -0.123210  0.116115  0.457777  0.435657\n",
      "13 -0.416619 -0.336371 -0.045831 -0.401677 -0.210665  0.181484  0.079874  0.125355  0.188627  0.378928 -0.251860  0.577807  0.020881 -0.249761 -0.140071 -0.072628\n",
      "14  0.410861  1.353325 -0.911994  0.392745  0.866432 -0.656386  0.181728 -0.580414 -0.889560 -0.039655 -0.283251  0.058167  0.446691  0.706114 -0.094467  0.229634\n",
      "15 -0.060189  0.242830 -0.301406  0.046287  0.258087 -0.577939 -0.037387 -0.346066 -0.720006 -0.087254 -0.501788  0.327810 -0.474141 -0.020896 -0.660642 -0.317020\n"
     ]
    },
    {
     "data": {
      "text/plain": "<matplotlib.colorbar.Colorbar at 0x11fe3f9a0>"
     },
     "execution_count": 19,
     "metadata": {},
     "output_type": "execute_result"
    },
    {
     "data": {
      "text/plain": "<Figure size 640x480 with 2 Axes>",
      "image/png": "[encoded data removed]"
     },
     "metadata": {},
     "output_type": "display_data"
    }
   ],
   "source": [
    "# Calculate the attention score\n",
    "print(Q.shape)\n",
    "print(K.shape)\n",
    "attention_score = torch.matmul(Q, K.transpose(-2, -1)) / math.sqrt(d_model // num_heads) # [4, 4, 16, 16]\n",
    "print(pd.DataFrame(attention_score[0][0].detach().cpu().numpy()))\n",
    "# Illustration only\n",
    "plt.imshow(attention_score[1, 1].detach().cpu().numpy(), \"Accent\", aspect=\"auto\")\n",
    "plt.title(\"Attention(Q,K)\")\n",
    "plt.xlabel(encoding.decode(x_batch[0].tolist()))\n",
    "plt.ylabel(encoding.decode(x_batch[0].tolist()))\n",
    "plt.colorbar()"
   ],
   "metadata": {
    "collapsed": false,
    "ExecuteTime": {
     "end_time": "2024-02-01T12:57:36.320389Z",
     "start_time": "2024-02-01T12:57:35.907149Z"
    }
   },
   "id": "6dd5217e3fa43d9",
   "execution_count": 19
  },
  {
   "cell_type": "code",
   "outputs": [
    {
     "name": "stdout",
     "output_type": "stream",
     "text": [
      "          0         1         2         3         4         5         6         7         8         9         10        11        12        13        14       15\n",
      "0   0.271247      -inf      -inf      -inf      -inf      -inf      -inf      -inf      -inf      -inf      -inf      -inf      -inf      -inf      -inf     -inf\n",
      "1  -0.045627  0.335207      -inf      -inf      -inf      -inf      -inf      -inf      -inf      -inf      -inf      -inf      -inf      -inf      -inf     -inf\n",
      "2  -0.062706  0.149768 -0.373623      -inf      -inf      -inf      -inf      -inf      -inf      -inf      -inf      -inf      -inf      -inf      -inf     -inf\n",
      "3   0.489974  0.889258 -0.396356  0.726592      -inf      -inf      -inf      -inf      -inf      -inf      -inf      -inf      -inf      -inf      -inf     -inf\n",
      "4   0.366094  0.809745  0.008297  0.004744  0.321938      -inf      -inf      -inf      -inf      -inf      -inf      -inf      -inf      -inf      -inf     -inf\n",
      "5   0.086671  0.772399 -0.768684  0.338177  0.517480  0.012420      -inf      -inf      -inf      -inf      -inf      -inf      -inf      -inf      -inf     -inf\n",
      "6  -0.917973  0.179699 -1.242398  0.295149  0.050819 -0.538681  0.316469      -inf      -inf      -inf      -inf      -inf      -inf      -inf      -inf     -inf\n",
      "7   0.485319  1.187169 -0.421335  0.609655  0.178571 -0.377602 -0.150101 -0.018908      -inf      -inf      -inf      -inf      -inf      -inf      -inf     -inf\n",
      "8   0.442679  1.010227  0.541597  0.759292  0.351397  0.068198 -0.331880  0.620946  0.515219      -inf      -inf      -inf      -inf      -inf      -inf     -inf\n",
      "9  -0.378671 -0.184779 -0.172620  0.340819  0.176497  0.439594  0.154800  0.048620  0.835482 -0.098898      -inf      -inf      -inf      -inf      -inf     -inf\n",
      "10  0.634922  1.067505 -0.084768  1.119899  1.075548  0.098884 -0.157741 -0.611069  0.047325 -0.438557 -0.203146      -inf      -inf      -inf      -inf     -inf\n",
      "11  0.714039  0.273180  0.165909 -0.122726  0.084472  0.506430 -0.043268  0.122951  0.421487  0.044874 -0.884315  0.804205      -inf      -inf      -inf     -inf\n",
      "12  0.522655  0.665469 -0.735746 -0.020036  0.108930 -0.535809 -0.394747 -0.308567 -0.607481 -0.350354 -0.753023 -0.458779 -0.123210      -inf      -inf     -inf\n",
      "13 -0.416619 -0.336371 -0.045831 -0.401677 -0.210665  0.181484  0.079874  0.125355  0.188627  0.378928 -0.251860  0.577807  0.020881 -0.249761      -inf     -inf\n",
      "14  0.410861  1.353325 -0.911994  0.392745  0.866432 -0.656386  0.181728 -0.580414 -0.889560 -0.039655 -0.283251  0.058167  0.446691  0.706114 -0.094467     -inf\n",
      "15 -0.060189  0.242830 -0.301406  0.046287  0.258087 -0.577939 -0.037387 -0.346066 -0.720006 -0.087254 -0.501788  0.327810 -0.474141 -0.020896 -0.660642 -0.31702\n"
     ]
    },
    {
     "data": {
      "text/plain": "<matplotlib.colorbar.Colorbar at 0x11ffa4700>"
     },
     "execution_count": 20,
     "metadata": {},
     "output_type": "execute_result"
    },
    {
     "data": {
      "text/plain": "<Figure size 640x480 with 2 Axes>",
      "image/png": "[encoded data removed]"
     },
     "metadata": {},
     "output_type": "display_data"
    }
   ],
   "source": [
    "# Apply Mask to attention scores\n",
    "attention_score = attention_score.masked_fill(torch.triu(torch.ones(attention_score.shape[-2:]), diagonal=1).bool(), float('-inf'))#[4, 4, 16, 16] [batch_size, num_heads, context_length, context_length]\n",
    "print(pd.DataFrame(attention_score[0][0].detach().cpu().numpy()))\n",
    "# Illustration only\n",
    "plt.imshow(attention_score[1, 1].detach().cpu().numpy(), \"Accent\", aspect=\"auto\")\n",
    "plt.title(\"Attention(Q,K)\")\n",
    "plt.xlabel(encoding.decode(x_batch[0].tolist()))\n",
    "plt.ylabel(encoding.decode(x_batch[0].tolist()))\n",
    "plt.colorbar()"
   ],
   "metadata": {
    "collapsed": false,
    "ExecuteTime": {
     "end_time": "2024-02-01T12:57:36.746481Z",
     "start_time": "2024-02-01T12:57:36.314629Z"
    }
   },
   "id": "9958625c65291f4e",
   "execution_count": 20
  },
  {
   "cell_type": "code",
   "outputs": [
    {
     "name": "stdout",
     "output_type": "stream",
     "text": [
      "          0         1         2         3         4         5         6         7         8         9         10        11        12        13        14       15\n",
      "0   1.000000  0.000000  0.000000  0.000000  0.000000  0.000000  0.000000  0.000000  0.000000  0.000000  0.000000  0.000000  0.000000  0.000000  0.000000  0.00000\n",
      "1   0.405926  0.594074  0.000000  0.000000  0.000000  0.000000  0.000000  0.000000  0.000000  0.000000  0.000000  0.000000  0.000000  0.000000  0.000000  0.00000\n",
      "2   0.336756  0.416478  0.246766  0.000000  0.000000  0.000000  0.000000  0.000000  0.000000  0.000000  0.000000  0.000000  0.000000  0.000000  0.000000  0.00000\n",
      "3   0.239815  0.357506  0.098843  0.303835  0.000000  0.000000  0.000000  0.000000  0.000000  0.000000  0.000000  0.000000  0.000000  0.000000  0.000000  0.00000\n",
      "4   0.203619  0.317316  0.142373  0.141868  0.194823  0.000000  0.000000  0.000000  0.000000  0.000000  0.000000  0.000000  0.000000  0.000000  0.000000  0.00000\n",
      "5   0.139601  0.277139  0.059349  0.179522  0.214777  0.129611  0.000000  0.000000  0.000000  0.000000  0.000000  0.000000  0.000000  0.000000  0.000000  0.00000\n",
      "6   0.064035  0.191923  0.046293  0.215410  0.168716  0.093570  0.220052  0.000000  0.000000  0.000000  0.000000  0.000000  0.000000  0.000000  0.000000  0.00000\n",
      "7   0.146088  0.294729  0.059001  0.165429  0.107497  0.061639  0.077385  0.088233  0.000000  0.000000  0.000000  0.000000  0.000000  0.000000  0.000000  0.00000\n",
      "8   0.104471  0.184279  0.115333  0.143383  0.095357  0.071839  0.048151  0.124857  0.112330  0.000000  0.000000  0.000000  0.000000  0.000000  0.000000  0.00000\n",
      "9   0.057362  0.069635  0.070487  0.117786  0.099938  0.130014  0.097793  0.087941  0.193163  0.075880  0.000000  0.000000  0.000000  0.000000  0.000000  0.00000\n",
      "10  0.112850  0.173928  0.054947  0.183284  0.175332  0.066024  0.051080  0.032462  0.062706  0.038574  0.048813  0.000000  0.000000  0.000000  0.000000  0.00000\n",
      "11  0.131966  0.084918  0.076280  0.057156  0.070315  0.107226  0.061883  0.073073  0.098494  0.067585  0.026687  0.144418  0.000000  0.000000  0.000000  0.00000\n",
      "12  0.147472  0.170111  0.041898  0.085708  0.097506  0.051171  0.058923  0.064226  0.047632  0.061598  0.041180  0.055268  0.077306  0.000000  0.000000  0.00000\n",
      "13  0.046259  0.050125  0.067024  0.046956  0.056839  0.084130  0.076002  0.079538  0.084733  0.102495  0.054545  0.125047  0.071648  0.054659  0.000000  0.00000\n",
      "14  0.076939  0.197448  0.020494  0.075557  0.121338  0.026463  0.061183  0.028552  0.020959  0.049033  0.038432  0.054072  0.079745  0.103365  0.046418  0.00000\n",
      "15  0.068365  0.092562  0.053712  0.076046  0.093985  0.040736  0.069941  0.051366  0.035341  0.066539  0.043959  0.100771  0.045191  0.071104  0.037502  0.05288\n"
     ]
    }
   ],
   "source": [
    "# Softmax the attention score\n",
    "attention_score = torch.softmax(attention_score, dim=-1) #[4, 4, 16, 16] [batch_size, num_heads, context_length, context_length]\n",
    "print(pd.DataFrame(attention_score[0][0].detach().cpu().numpy()))"
   ],
   "metadata": {
    "collapsed": false,
    "ExecuteTime": {
     "end_time": "2024-02-01T12:57:36.752722Z",
     "start_time": "2024-02-01T12:57:36.739311Z"
    }
   },
   "id": "7eb3f22c3466b59b",
   "execution_count": 21
  },
  {
   "cell_type": "code",
   "outputs": [
    {
     "name": "stdout",
     "output_type": "stream",
     "text": [
      "torch.Size([4, 4, 16, 16])\n",
      "torch.Size([4, 4, 16, 16])\n",
      "torch.Size([4, 4, 16, 16])\n"
     ]
    }
   ],
   "source": [
    "# Calculate the V attention output\n",
    "print(attention_score.shape) #[4, 4, 16, 16] [batch_size, num_heads, context_length, context_length]\n",
    "print(V.shape) #[4, 4, 16, 16] [batch_size, num_heads, context_length, head_size]\n",
    "A = torch.matmul(attention_score, V) # [4, 4, 16, 16] [batch_size, num_heads, context_length, head_size]\n",
    "print(A.shape)"
   ],
   "metadata": {
    "collapsed": false,
    "ExecuteTime": {
     "end_time": "2024-02-01T12:57:36.771747Z",
     "start_time": "2024-02-01T12:57:36.753260Z"
    }
   },
   "id": "3a14ab6238d8f340",
   "execution_count": 22
  },
  {
   "cell_type": "code",
   "outputs": [
    {
     "name": "stdout",
     "output_type": "stream",
     "text": [
      "tensor([[[ 2.2984e-01,  1.0711e-01, -4.7054e-01,  ...,  1.9655e+00,\n",
      "          -1.2104e+00,  4.0954e-01],\n",
      "         [ 3.8354e-01,  1.2461e-01, -4.9296e-01,  ...,  1.6057e+00,\n",
      "          -8.4324e-01,  2.7363e-01],\n",
      "         [ 4.0751e-01, -5.8964e-02, -5.7771e-01,  ...,  1.3481e+00,\n",
      "          -6.6691e-01,  2.9795e-01],\n",
      "         ...,\n",
      "         [ 5.8758e-01, -8.5848e-03, -3.8717e-01,  ...,  4.6530e-01,\n",
      "          -1.3207e-01,  4.4724e-02],\n",
      "         [ 6.0777e-01,  1.7120e-01, -4.1546e-01,  ...,  3.6077e-01,\n",
      "          -1.3087e-01,  5.0309e-02],\n",
      "         [ 5.4274e-01,  8.9086e-02, -4.0954e-01,  ...,  6.7794e-01,\n",
      "          -2.9270e-01,  1.3990e-01]],\n",
      "\n",
      "        [[-6.8934e-01, -1.2968e+00, -4.7236e-01,  ...,  4.9896e-01,\n",
      "           4.3101e-02, -2.0171e-01],\n",
      "         [-2.4578e-01, -5.2295e-01,  1.6546e-02,  ...,  5.4918e-01,\n",
      "           3.2131e-01, -1.8072e-01],\n",
      "         [-1.3411e-02, -3.0040e-01, -2.0888e-01,  ...,  1.1339e+00,\n",
      "           9.7729e-02,  1.7685e-01],\n",
      "         ...,\n",
      "         [ 2.0099e-01,  5.2441e-02, -1.5381e-01,  ...,  5.1022e-01,\n",
      "           1.9044e-01,  2.2045e-02],\n",
      "         [ 1.3117e-01,  1.6751e-01, -2.1139e-01,  ...,  5.8841e-01,\n",
      "           1.3160e-01,  1.0516e-01],\n",
      "         [ 4.5613e-02,  7.6362e-02, -1.6497e-01,  ...,  5.5466e-01,\n",
      "           1.8771e-01,  8.2188e-02]],\n",
      "\n",
      "        [[ 8.8713e-01,  6.2808e-01,  5.8356e-01,  ...,  3.4730e-02,\n",
      "          -6.3247e-01,  6.5644e-01],\n",
      "         [ 6.4153e-01,  2.4799e-01, -4.5145e-01,  ...,  6.7365e-01,\n",
      "          -6.7752e-01,  1.8255e-01],\n",
      "         [ 1.4766e-01,  7.3082e-02, -6.8098e-01,  ...,  4.7648e-01,\n",
      "          -1.0705e+00,  4.9711e-01],\n",
      "         ...,\n",
      "         [ 1.4774e-01,  2.0482e-01, -1.5253e-01,  ...,  4.0316e-01,\n",
      "          -1.7397e-01, -1.3836e-01],\n",
      "         [ 2.2652e-01,  1.6528e-01,  1.3487e-02,  ...,  3.7103e-01,\n",
      "           1.1114e-01, -6.4365e-02],\n",
      "         [ 3.0853e-01,  1.7966e-01, -4.2983e-02,  ...,  3.7427e-01,\n",
      "          -1.8193e-03, -9.5068e-02]],\n",
      "\n",
      "        [[ 3.8130e-01,  4.0883e-01, -6.5901e-01,  ...,  1.0678e+00,\n",
      "          -6.6379e-01, -1.5803e-01],\n",
      "         [ 7.7486e-01,  6.4811e-03, -4.0837e-01,  ...,  8.0154e-01,\n",
      "          -8.2935e-01,  7.4345e-03],\n",
      "         [ 5.1376e-01,  2.1062e-01, -5.8140e-01,  ...,  5.2884e-01,\n",
      "          -6.6682e-01, -2.2307e-01],\n",
      "         ...,\n",
      "         [ 3.9540e-01,  3.0896e-01, -4.6399e-01,  ...,  6.9461e-01,\n",
      "          -8.3450e-03,  2.4320e-02],\n",
      "         [ 4.1750e-01,  3.4013e-01, -5.3440e-01,  ...,  5.7731e-01,\n",
      "           1.0388e-01,  7.7571e-02],\n",
      "         [ 2.6601e-01,  2.9931e-01, -4.7661e-01,  ...,  5.4638e-01,\n",
      "          -3.2324e-02,  7.3200e-02]]], grad_fn=<UnsafeViewBackward0>)\n"
     ]
    }
   ],
   "source": [
    "# Concatenate the attention output\n",
    "A = A.transpose(1, 2) # [4, 16, 4, 16] [batch_size, context_length, num_heads, head_size]\n",
    "A = A.reshape(batch_size, -1, d_model) # [4, 16, 64] [batch_size, context_length, d_model]\n",
    "print(A)"
   ],
   "metadata": {
    "collapsed": false,
    "ExecuteTime": {
     "end_time": "2024-02-01T12:57:36.884137Z",
     "start_time": "2024-02-01T12:57:36.760764Z"
    }
   },
   "id": "57894d06f08e7f5e",
   "execution_count": 23
  },
  {
   "cell_type": "code",
   "outputs": [
    {
     "name": "stdout",
     "output_type": "stream",
     "text": [
      "tensor([[[-0.1924, -0.0060,  0.0240,  ..., -0.8658, -0.0858, -0.2151],\n",
      "         [-0.1009, -0.0390,  0.0750,  ..., -0.4298,  0.3521, -0.0232],\n",
      "         [-0.1509, -0.0933,  0.2915,  ..., -0.4407,  0.3738,  0.0800],\n",
      "         ...,\n",
      "         [-0.2684, -0.0696,  0.0680,  ..., -0.0178,  0.0814,  0.2380],\n",
      "         [-0.3668,  0.0224,  0.0345,  ..., -0.0045, -0.0585,  0.2871],\n",
      "         [-0.2800,  0.0993,  0.0527,  ..., -0.0483,  0.0082,  0.1593]],\n",
      "\n",
      "        [[-0.5963, -0.4104,  0.3470,  ..., -0.1268,  0.4391,  0.3884],\n",
      "         [-0.5105, -0.5890,  0.1561,  ..., -0.2581,  0.2813,  0.4923],\n",
      "         [-0.5576, -0.3874, -0.0025,  ..., -0.3637,  0.2849,  0.3278],\n",
      "         ...,\n",
      "         [-0.5314, -0.1979, -0.1013,  ..., -0.0244,  0.1876,  0.2311],\n",
      "         [-0.4249, -0.1456, -0.0116,  ..., -0.0379,  0.2374,  0.1066],\n",
      "         [-0.5416, -0.1239, -0.0271,  ..., -0.0365,  0.2512,  0.1774]],\n",
      "\n",
      "        [[-0.4334,  0.0963,  0.5087,  ...,  0.0664,  0.2287,  0.9906],\n",
      "         [-0.3664,  0.1528,  0.1981,  ..., -0.2194,  0.2329,  0.6059],\n",
      "         [-0.2687,  0.2134,  0.2553,  ..., -0.0330,  0.4324,  0.4794],\n",
      "         ...,\n",
      "         [-0.4257,  0.0604, -0.0080,  ...,  0.0906,  0.1174,  0.1653],\n",
      "         [-0.5402, -0.0410, -0.0082,  ...,  0.0148,  0.0208,  0.2341],\n",
      "         [-0.5143,  0.0773, -0.0449,  ...,  0.0896, -0.0116,  0.2505]],\n",
      "\n",
      "        [[-0.1485, -0.7546,  0.2489,  ..., -0.7361,  0.7847,  0.3943],\n",
      "         [-0.1822, -0.2207,  0.1065,  ..., -0.5823,  0.2830,  0.1282],\n",
      "         [-0.0921, -0.2441,  0.0963,  ..., -0.3748,  0.2733,  0.0537],\n",
      "         ...,\n",
      "         [-0.1102, -0.0777,  0.0632,  ..., -0.1911,  0.1565,  0.1131],\n",
      "         [-0.1843, -0.0402,  0.0470,  ..., -0.1562,  0.0566,  0.0873],\n",
      "         [-0.2361, -0.1022,  0.0989,  ..., -0.1360,  0.0856,  0.1171]]],\n",
      "       grad_fn=<ViewBackward0>)\n",
      "torch.Size([4, 16, 64])\n"
     ]
    }
   ],
   "source": [
    "# Define the output weight matrix\n",
    "Wo = nn.Linear(d_model, d_model)\n",
    "output = Wo(A) # [4, 16, 64] [batch_size, context_length, d_model]\n",
    "print(output)\n",
    "print(output.shape)"
   ],
   "metadata": {
    "collapsed": false,
    "ExecuteTime": {
     "end_time": "2024-02-01T12:57:36.908660Z",
     "start_time": "2024-02-01T12:57:36.772445Z"
    }
   },
   "id": "8f4fbfce6f7f330a",
   "execution_count": 24
  },
  {
   "cell_type": "code",
   "outputs": [
    {
     "name": "stdout",
     "output_type": "stream",
     "text": [
      "torch.Size([4, 16, 64])\n"
     ]
    }
   ],
   "source": [
    "# Add residual connection\n",
    "output = output + X\n",
    "print(output.shape)"
   ],
   "metadata": {
    "collapsed": false,
    "ExecuteTime": {
     "end_time": "2024-02-01T12:57:36.911219Z",
     "start_time": "2024-02-01T12:57:36.783993Z"
    }
   },
   "id": "2835a23754fafc42",
   "execution_count": 25
  },
  {
   "cell_type": "code",
   "outputs": [
    {
     "name": "stdout",
     "output_type": "stream",
     "text": [
      "torch.Size([4, 16, 64])\n"
     ]
    }
   ],
   "source": [
    "# Add Layer Normalization\n",
    "layer_norm = nn.LayerNorm(d_model)\n",
    "output = layer_norm(output)\n",
    "print(output.shape)"
   ],
   "metadata": {
    "collapsed": false,
    "ExecuteTime": {
     "end_time": "2024-02-01T12:57:36.997470Z",
     "start_time": "2024-02-01T12:57:36.792509Z"
    }
   },
   "id": "7761664159de5538",
   "execution_count": 26
  },
  {
   "cell_type": "code",
   "outputs": [
    {
     "name": "stdout",
     "output_type": "stream",
     "text": [
      "tensor([[[ 0.1985, -0.3102,  0.1349,  ..., -0.2439, -0.1145, -0.0151],\n",
      "         [-0.0270, -0.6255, -0.2591,  ...,  0.0502,  0.3521, -0.1900],\n",
      "         [ 0.4733, -0.0206, -0.0893,  ..., -0.3118,  0.0840, -0.0160],\n",
      "         ...,\n",
      "         [-0.0000, -0.1145, -0.1049,  ...,  0.0174, -0.1256, -0.1927],\n",
      "         [ 0.1071, -0.4811, -0.3672,  ..., -0.1101,  0.1234, -0.0171],\n",
      "         [ 0.3143, -0.0861,  0.1728,  ..., -0.1431,  0.3061, -0.0000]],\n",
      "\n",
      "        [[ 0.4165, -0.5228, -0.0594,  ..., -0.3152,  0.0651,  0.3927],\n",
      "         [ 0.0000, -0.3445, -0.1302,  ..., -0.5147,  0.5041, -0.0049],\n",
      "         [ 0.4020, -0.7430,  0.0868,  ..., -0.5520,  0.3041,  0.0000],\n",
      "         ...,\n",
      "         [-0.0672,  0.2892, -0.0158,  ...,  0.2891,  0.2271, -0.1749],\n",
      "         [ 0.1431, -0.2073,  0.1924,  ...,  0.1170, -0.0000, -0.2519],\n",
      "         [ 0.0960, -0.2714, -0.0255,  ..., -0.1996,  0.3139, -0.2240]],\n",
      "\n",
      "        [[ 0.5060, -0.2642,  0.0267,  ...,  0.1410,  0.1785,  0.0000],\n",
      "         [ 0.5512, -0.3918,  0.0424,  ..., -0.2078, -0.0000,  0.0524],\n",
      "         [ 0.3017,  0.2094, -0.1020,  ..., -0.0000, -0.0334,  0.0000],\n",
      "         ...,\n",
      "         [-0.2040, -0.5049,  0.1407,  ..., -0.3729, -0.2107, -0.0000],\n",
      "         [ 0.3935, -0.0332,  0.1441,  ...,  0.1647,  0.1168, -0.3143],\n",
      "         [ 0.4724, -0.2481, -0.1527,  ..., -0.1174,  0.0000,  0.0572]],\n",
      "\n",
      "        [[ 0.0380,  0.0489,  0.1054,  ...,  0.0000, -0.2621, -0.1247],\n",
      "         [ 0.0927, -0.3949,  0.2237,  ...,  0.0634,  0.0526,  0.2036],\n",
      "         [ 0.1433, -0.2470, -0.2465,  ..., -0.1167,  0.0000,  0.1105],\n",
      "         ...,\n",
      "         [ 0.1780, -0.0000,  0.0000,  ...,  0.0877, -0.0022,  0.0034],\n",
      "         [ 0.2817, -0.4157,  0.0870,  ...,  0.0953,  0.4986, -0.3769],\n",
      "         [ 0.3483, -0.3252, -0.0494,  ...,  0.1415,  0.1516,  0.0000]]],\n",
      "       grad_fn=<MulBackward0>)\n"
     ]
    }
   ],
   "source": [
    "# Define Feed Forward Network\n",
    "output = nn.Linear(d_model, d_model * 4)(output)\n",
    "output = nn.ReLU()(output)\n",
    "output = nn.Linear(d_model * 4, d_model)(output)\n",
    "output = torch.dropout(output, p=dropout, train=True)\n",
    "\n",
    "print(output)"
   ],
   "metadata": {
    "collapsed": false,
    "ExecuteTime": {
     "end_time": "2024-02-01T12:57:36.999007Z",
     "start_time": "2024-02-01T12:57:36.801064Z"
    }
   },
   "id": "2ce7c56ac3de91a0",
   "execution_count": 27
  },
  {
   "cell_type": "code",
   "outputs": [
    {
     "name": "stdout",
     "output_type": "stream",
     "text": [
      "torch.Size([4, 16, 64])\n"
     ]
    }
   ],
   "source": [
    "# Add residual connection & layerNorm (last time in a Transformer block)\n",
    "output = output + X\n",
    "# Add Layer Normalization\n",
    "layer_norm = nn.LayerNorm(d_model)\n",
    "output = layer_norm(output)\n",
    "print(output.shape)"
   ],
   "metadata": {
    "collapsed": false,
    "ExecuteTime": {
     "end_time": "2024-02-01T12:57:37.000802Z",
     "start_time": "2024-02-01T12:57:36.824777Z"
    }
   },
   "id": "35cce4d92eeb74ee",
   "execution_count": 28
  },
  {
   "cell_type": "code",
   "outputs": [],
   "source": [
    "# Until here, we finished a Transformer block,\n",
    "# We actually should pack the above Transformer block code into a call and \n",
    "# repeat the steps for num_layers times\n",
    "# but this jupyter notebook is purely for illustration purpose, so we'll skip it.\n",
    "# for _ in range(num_layers):\n",
    "#   do loop for each transformer block"
   ],
   "metadata": {
    "collapsed": false,
    "ExecuteTime": {
     "end_time": "2024-02-01T12:57:37.018215Z",
     "start_time": "2024-02-01T12:57:36.830819Z"
    }
   },
   "id": "5a0de0adb842207e",
   "execution_count": 29
  },
  {
   "cell_type": "code",
   "outputs": [
    {
     "name": "stdout",
     "output_type": "stream",
     "text": [
      "      0         1         2         3         4         5         6         7         8         9       ...    100059    100060    100061    100062    100063    100064    100065    100066    100067    100068\n",
      "0  -0.198109 -0.024584 -0.390627 -0.509666 -0.651848 -0.803911  0.021912 -0.220479  0.039764 -0.108272  ...  0.422643 -0.542400 -0.288384  0.489309  0.010644 -0.440726 -0.526366  0.622293 -0.418183 -0.550434\n",
      "1   0.738735  0.621348 -0.293323  0.693907 -0.620036 -0.390120 -0.576853 -0.610312 -0.005386 -0.635274  ... -0.358585 -0.805883 -0.389686 -0.137290 -0.368307 -0.179193  0.504089  0.876015 -0.690479 -1.898542\n",
      "2   0.461873 -0.118239 -0.102895 -0.944984 -0.255342  0.026568  0.926112 -0.454585 -0.137228  0.428997  ...  0.783919  0.032272  0.123375  0.217485  0.737927  0.075980 -0.161590 -0.048811 -0.602588  0.571079\n",
      "3  -0.594172  0.398664  0.292804 -0.800400 -0.337430 -0.212501  0.310157 -0.417063  0.557524  0.197784  ...  1.346299 -0.294751 -0.072211 -0.559871  0.528240  0.016780  0.923211  0.509746 -0.820731 -0.576875\n",
      "4  -0.627845  0.119776  0.000432 -0.299878  0.699299 -0.479650  0.159084 -1.173773 -0.020348  0.196675  ...  0.335871 -0.506739  0.121237 -1.201865  0.593455  0.964130  0.595328  0.209957  0.412268 -0.578996\n",
      "5  -0.001701 -0.636552 -0.205869 -0.914698 -0.654249  0.303629  0.728940 -0.227980 -1.424284  0.170317  ...  0.436821 -0.852558  0.311666  0.167645  0.554236  0.688087  0.160057  0.828521  0.391261  0.375971\n",
      "6  -0.556173 -0.015484  0.494321 -0.732024 -0.162457 -0.178356  0.327462  0.624841 -0.571868 -0.445563  ...  0.371554 -0.177637  0.330660  0.967169  0.258027  0.761336  0.294700  0.176447 -0.762124  0.483516\n",
      "7  -0.812433  0.003836 -0.903373 -0.397296 -0.450321  0.819017  0.168120  0.627974 -0.211449  0.231555  ...  0.471851 -0.179871 -0.121141  0.219998  0.406608  0.363350  0.451457 -0.889814 -0.048987 -0.670326\n",
      "8  -1.310561 -0.363689 -0.590449 -0.784727 -0.423371  0.130671 -0.028444 -0.300077  0.613089  0.337455  ...  0.966889 -0.645000 -0.337220  0.264371  1.285893  0.668936  0.956861 -0.396895 -0.400553 -0.502136\n",
      "9  -0.341814 -0.570835  0.131305 -0.092621  0.788680  0.772466  0.319421  0.297706 -0.436454  0.547136  ...  0.820868 -0.115552 -0.615278  1.237157  0.028111  0.167827  0.110621  0.720932 -0.118911 -0.188439\n",
      "10  0.292164 -0.595430 -0.032514 -0.172319  0.704093  0.050517 -0.211032  0.399044  0.136084 -0.098165  ...  0.569248  0.280060  0.316029 -0.257596  0.321118  0.875534  0.178573 -0.282939  0.250577  0.071838\n",
      "11  0.236014 -0.261912 -0.782080 -0.480625 -0.395049  0.332238  0.043047 -0.154027 -0.215350 -0.862464  ...  1.613596  0.247148  0.190218  0.163263  0.917745  0.083293 -0.670692  0.890596 -0.012346  0.529791\n",
      "12 -0.529474  0.185220 -0.163117  0.080752 -0.161418  0.989779  0.232630 -0.472996 -0.406196 -0.417722  ...  0.581389 -0.324454  0.022837 -1.098135  0.783660  0.174414  0.023177  1.882621  0.698803 -0.788091\n",
      "13 -0.807503  0.618209  0.135035  0.148908  1.126865 -0.025793  0.094142 -1.429117 -0.095877 -0.258178  ...  0.538346 -0.396489  0.186412  0.181505 -0.242396  0.380096 -0.076662  0.021750  0.629953 -0.272863\n",
      "14 -0.942195 -0.076828  0.781585 -0.173694  0.528630 -0.719600  0.088948  0.026578 -0.561324 -0.674583  ...  0.516904  0.151471  0.143191 -0.988389 -0.222145  0.397878  0.419609 -0.572862  0.446939 -1.365451\n",
      "15 -0.505915  0.119280 -0.105518 -0.445461  0.290443  0.161432  0.076130 -0.471846 -0.783165 -0.538557  ...  0.044293 -0.162262  0.356479 -0.325504  0.405745  0.412988 -0.103725  0.534419 -0.462917 -0.432683\n",
      "\n",
      "[16 rows x 100069 columns]\n"
     ]
    }
   ],
   "source": [
    "# Apply the final linear layer to get the logits\n",
    "logits = nn.Linear(d_model, max_token_value)(output)\n",
    "print(pd.DataFrame(logits[0].detach().cpu().numpy()))"
   ],
   "metadata": {
    "collapsed": false,
    "ExecuteTime": {
     "end_time": "2024-02-01T12:57:37.040610Z",
     "start_time": "2024-02-01T12:57:36.840382Z"
    }
   },
   "id": "1d4b434e547757",
   "execution_count": 30
  },
  {
   "cell_type": "code",
   "outputs": [
    {
     "name": "stdout",
     "output_type": "stream",
     "text": [
      "      0         1         2         3         4         5         6         7         8         9       ...    100059    100060    100061    100062    100063    100064    100065    100066    100067    100068\n",
      "0   0.000007  0.000008  0.000006  0.000005  0.000004  0.000004  0.000009  0.000007  0.000009  0.000008  ...  0.000013  0.000005  0.000006  0.000014  0.000009  0.000005  0.000005  0.000016  0.000006  0.000005\n",
      "1   0.000018  0.000016  0.000006  0.000017  0.000005  0.000006  0.000005  0.000005  0.000008  0.000004  ...  0.000006  0.000004  0.000006  0.000007  0.000006  0.000007  0.000014  0.000020  0.000004  0.000001\n",
      "2   0.000013  0.000007  0.000008  0.000003  0.000007  0.000009  0.000021  0.000005  0.000007  0.000013  ...  0.000018  0.000009  0.000010  0.000010  0.000018  0.000009  0.000007  0.000008  0.000005  0.000015\n",
      "3   0.000005  0.000013  0.000011  0.000004  0.000006  0.000007  0.000012  0.000006  0.000015  0.000010  ...  0.000032  0.000006  0.000008  0.000005  0.000014  0.000009  0.000021  0.000014  0.000004  0.000005\n",
      "4   0.000005  0.000010  0.000008  0.000006  0.000017  0.000005  0.000010  0.000003  0.000008  0.000010  ...  0.000012  0.000005  0.000010  0.000003  0.000015  0.000022  0.000015  0.000010  0.000013  0.000005\n",
      "5   0.000008  0.000004  0.000007  0.000003  0.000004  0.000011  0.000018  0.000007  0.000002  0.000010  ...  0.000013  0.000004  0.000012  0.000010  0.000015  0.000017  0.000010  0.000019  0.000013  0.000012\n",
      "6   0.000005  0.000008  0.000014  0.000004  0.000007  0.000007  0.000012  0.000016  0.000005  0.000005  ...  0.000012  0.000007  0.000012  0.000022  0.000011  0.000018  0.000011  0.000010  0.000004  0.000014\n",
      "7   0.000004  0.000008  0.000003  0.000006  0.000005  0.000019  0.000010  0.000016  0.000007  0.000011  ...  0.000014  0.000007  0.000007  0.000010  0.000013  0.000012  0.000013  0.000003  0.000008  0.000004\n",
      "8   0.000002  0.000006  0.000005  0.000004  0.000006  0.000010  0.000008  0.000006  0.000016  0.000012  ...  0.000022  0.000004  0.000006  0.000011  0.000031  0.000016  0.000022  0.000006  0.000006  0.000005\n",
      "9   0.000006  0.000005  0.000010  0.000008  0.000019  0.000018  0.000012  0.000011  0.000005  0.000015  ...  0.000019  0.000008  0.000005  0.000029  0.000009  0.000010  0.000009  0.000017  0.000007  0.000007\n",
      "10  0.000011  0.000005  0.000008  0.000007  0.000017  0.000009  0.000007  0.000013  0.000010  0.000008  ...  0.000015  0.000011  0.000012  0.000007  0.000012  0.000020  0.000010  0.000006  0.000011  0.000009\n",
      "11  0.000011  0.000006  0.000004  0.000005  0.000006  0.000012  0.000009  0.000007  0.000007  0.000004  ...  0.000042  0.000011  0.000010  0.000010  0.000021  0.000009  0.000004  0.000021  0.000008  0.000014\n",
      "12  0.000005  0.000010  0.000007  0.000009  0.000007  0.000023  0.000011  0.000005  0.000006  0.000006  ...  0.000015  0.000006  0.000009  0.000003  0.000019  0.000010  0.000009  0.000056  0.000017  0.000004\n",
      "13  0.000004  0.000016  0.000010  0.000010  0.000026  0.000008  0.000009  0.000002  0.000008  0.000007  ...  0.000014  0.000006  0.000010  0.000010  0.000007  0.000012  0.000008  0.000009  0.000016  0.000006\n",
      "14  0.000003  0.000008  0.000019  0.000007  0.000014  0.000004  0.000009  0.000009  0.000005  0.000004  ...  0.000014  0.000010  0.000010  0.000003  0.000007  0.000013  0.000013  0.000005  0.000013  0.000002\n",
      "15  0.000005  0.000010  0.000008  0.000005  0.000011  0.000010  0.000009  0.000005  0.000004  0.000005  ...  0.000009  0.000007  0.000012  0.000006  0.000013  0.000013  0.000008  0.000014  0.000005  0.000005\n",
      "\n",
      "[16 rows x 100069 columns]\n"
     ]
    }
   ],
   "source": [
    "# Get the probabilities \n",
    "# torch.softmax usually used during inference, during training we use torch.nn.CrossEntropyLoss\n",
    "# but for illustration purpose, we'll use torch.softmax here\n",
    "probabilities = torch.softmax(logits, dim=-1)\n",
    "print(pd.DataFrame(probabilities[0].detach().cpu().numpy()))\n"
   ],
   "metadata": {
    "collapsed": false,
    "ExecuteTime": {
     "end_time": "2024-02-01T12:57:37.121004Z",
     "start_time": "2024-02-01T12:57:36.925609Z"
    }
   },
   "id": "3a857abd1cceecb4",
   "execution_count": 31
  }
 ],
 "metadata": {
  "kernelspec": {
   "display_name": "Python 3",
   "language": "python",
   "name": "python3"
  },
  "language_info": {
   "codemirror_mode": {
    "name": "ipython",
    "version": 2
   },
   "file_extension": ".py",
   "mimetype": "text/x-python",
   "name": "python",
   "nbconvert_exporter": "python",
   "pygments_lexer": "ipython2",
   "version": "2.7.6"
  }
 },
 "nbformat": 4,
 "nbformat_minor": 5
}
